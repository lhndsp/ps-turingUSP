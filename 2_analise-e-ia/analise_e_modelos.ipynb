{
 "cells": [
  {
   "cell_type": "code",
   "execution_count": 5,
   "metadata": {},
   "outputs": [
    {
     "data": {
      "application/javascript": [
       "IPython.notebook.set_autosave_interval(2000)"
      ]
     },
     "metadata": {},
     "output_type": "display_data"
    },
    {
     "name": "stdout",
     "output_type": "stream",
     "text": [
      "Autosaving every 2 seconds\n",
      "The autoreload extension is already loaded. To reload it, use:\n",
      "  %reload_ext autoreload\n"
     ]
    }
   ],
   "source": [
    "%autosave 2\n",
    "%load_ext autoreload\n",
    "%autoreload 2\n",
    "%matplotlib inline"
   ]
  },
  {
   "cell_type": "markdown",
   "metadata": {},
   "source": [
    "# Analíse de reviews de videogames da Amazon"
   ]
  },
  {
   "cell_type": "markdown",
   "metadata": {},
   "source": [
    "## Referencias\n",
    "- [NLTK Book Online](http://www.nltk.org/book/)\n",
    "\n",
    "* __Turing Talks__\n",
    "    - [Introdução a NLTK com Dom Casmurro](https://medium.com/turing-talks/uma-an%C3%A1lise-de-dom-casmurro-com-nltk-343d72dd47a7)\n",
    "    - [Introdução ao Processamento de Linguagem Natural com Baco Exu do Blues\n",
    "](https://medium.com/turing-talks/introdu%C3%A7%C3%A3o-ao-processamento-de-linguagem-natural-com-baco-exu-do-blues-17cbb7404258)\n",
    "    - [Introdução a Bag of Words e TF-IDF](https://medium.com/turing-talks/introdu%C3%A7%C3%A3o-a-bag-of-words-e-tf-idf-43a128151ce9)\n",
    "        - [notebook](https://github.com/turing-usp/BoW-e-TFIDF/blob/master/BoW_e_TFIDF.ipynb)\n",
    "    - [Sua primeira análise de sentimentos com scikit-learn](https://medium.com/turing-talks/sua-primeira-an%C3%A1lise-de-sentimentos-com-scikit-learn-a47c088ea7bd)\n",
    "        - [modelos](https://www.kaggle.com/camillafonseca/nlp-an-lise-de-sentimento-do-olist-para-iniciantes#Modelos)\n",
    "    - [Como Avaliar Seu Modelo de Classificação](https://medium.com/turing-talks/como-avaliar-seu-modelo-de-classifica%C3%A7%C3%A3o-acd2a03690e)"
   ]
  },
  {
   "cell_type": "code",
   "execution_count": 75,
   "metadata": {},
   "outputs": [],
   "source": [
    "from rich import print # print ficar bonitinho\n",
    "from IPython.display import display"
   ]
  },
  {
   "cell_type": "code",
   "execution_count": 7,
   "metadata": {},
   "outputs": [],
   "source": [
    "import pandas as pd\n",
    "import numpy as np"
   ]
  },
  {
   "cell_type": "code",
   "execution_count": 8,
   "metadata": {},
   "outputs": [],
   "source": [
    "#import nltk\n",
    "from nltk.corpus import stopwords # remover stopwords\n",
    "from nltk import WordNetLemmatizer\n",
    "import string, re # remover pontucao\n",
    "from sklearn.feature_extraction.text import CountVectorizer"
   ]
  },
  {
   "cell_type": "code",
   "execution_count": 9,
   "metadata": {},
   "outputs": [],
   "source": [
    "#nltk.download()"
   ]
  },
  {
   "cell_type": "code",
   "execution_count": 10,
   "metadata": {},
   "outputs": [],
   "source": [
    "from matplotlib import pyplot as plt\n",
    "from matplotlib import gridspec\n",
    "import matplotlib as mpl\n",
    "import seaborn as sns"
   ]
  },
  {
   "cell_type": "code",
   "execution_count": 11,
   "metadata": {},
   "outputs": [],
   "source": [
    "plt.style.use('seaborn')\n",
    "\n",
    "font = {'family' : 'DejaVu Sans',\n",
    "        'weight' : 'bold',\n",
    "        'size'   : '16'}\n",
    "\n",
    "mpl.rc('font', **font)"
   ]
  },
  {
   "cell_type": "code",
   "execution_count": 142,
   "metadata": {},
   "outputs": [],
   "source": [
    "from wordcloud import WordCloud\n",
    "import cv2 as cv # Pra mascara do wordcloud"
   ]
  },
  {
   "cell_type": "code",
   "execution_count": 58,
   "metadata": {},
   "outputs": [],
   "source": [
    "dfReview = pd.read_csv('video_games_reviews_test.csv')\n",
    "#dfReviewTrain = pd.read_csv('video_games_reviews_train.csv')\n",
    "#dfReviewValid = pd.read_csv('video_games_reviews_dev.csv')"
   ]
  },
  {
   "cell_type": "markdown",
   "metadata": {},
   "source": [
    "## Pré-processamento e Análise do corpus\n",
    "\n",
    "\n",
    "* [CountVectorizer](https://scikit-learn.org/stable/modules/generated/sklearn.feature_extraction.text.CountVectorizer.html#sklearn.feature_extraction.text.CountVectorizer)\n",
    "    * [Sparse matrix](https://en.wikipedia.org/wiki/Sparse_matrix)\n",
    "* [TfidfTransformer](https://scikit-learn.org/stable/modules/generated/sklearn.feature_extraction.text.TfidfTransformer.html)\n",
    "* [Naive Bayes](https://scikit-learn.org/stable/modules/naive_bayes.html)\n",
    "* [Pipeline](https://scikit-learn.org/stable/modules/generated/sklearn.pipeline.Pipeline.html)"
   ]
  },
  {
   "cell_type": "markdown",
   "metadata": {},
   "source": [
    "### Visualizacao dos dados e tratamento das colunas"
   ]
  },
  {
   "cell_type": "code",
   "execution_count": 59,
   "metadata": {},
   "outputs": [
    {
     "data": {
      "text/html": [
       "<div>\n",
       "<style scoped>\n",
       "    .dataframe tbody tr th:only-of-type {\n",
       "        vertical-align: middle;\n",
       "    }\n",
       "\n",
       "    .dataframe tbody tr th {\n",
       "        vertical-align: top;\n",
       "    }\n",
       "\n",
       "    .dataframe thead th {\n",
       "        text-align: right;\n",
       "    }\n",
       "</style>\n",
       "<table border=\"1\" class=\"dataframe\">\n",
       "  <thead>\n",
       "    <tr style=\"text-align: right;\">\n",
       "      <th></th>\n",
       "      <th>level_0</th>\n",
       "      <th>index</th>\n",
       "      <th>reviewerID</th>\n",
       "      <th>asin</th>\n",
       "      <th>reviewerName</th>\n",
       "      <th>helpful</th>\n",
       "      <th>reviewText</th>\n",
       "      <th>overall</th>\n",
       "      <th>summary</th>\n",
       "      <th>unixReviewTime</th>\n",
       "      <th>reviewTime</th>\n",
       "    </tr>\n",
       "  </thead>\n",
       "  <tbody>\n",
       "    <tr>\n",
       "      <th>0</th>\n",
       "      <td>12154</td>\n",
       "      <td>25980</td>\n",
       "      <td>A16416X67B4ZKJ</td>\n",
       "      <td>B00005V6BB</td>\n",
       "      <td>\"mcfly70\"</td>\n",
       "      <td>[1, 1]</td>\n",
       "      <td>MOH was good and all, but when you reach the c...</td>\n",
       "      <td>4</td>\n",
       "      <td>MOH: THE ACTUAL WAR WAS BETTER THE 3RD MCFLY R...</td>\n",
       "      <td>1035158400</td>\n",
       "      <td>10 21, 2002</td>\n",
       "    </tr>\n",
       "    <tr>\n",
       "      <th>1</th>\n",
       "      <td>7333</td>\n",
       "      <td>215010</td>\n",
       "      <td>A2Q2ADX9C9I5WZ</td>\n",
       "      <td>B00AZWE7ES</td>\n",
       "      <td>MCRC</td>\n",
       "      <td>[0, 4]</td>\n",
       "      <td>I am so glad I only paid $15 for this game dur...</td>\n",
       "      <td>2</td>\n",
       "      <td>15 fps? really?</td>\n",
       "      <td>1399334400</td>\n",
       "      <td>05 6, 2014</td>\n",
       "    </tr>\n",
       "    <tr>\n",
       "      <th>2</th>\n",
       "      <td>6703</td>\n",
       "      <td>188851</td>\n",
       "      <td>A30IXQWBRD3GU9</td>\n",
       "      <td>B0053BCO00</td>\n",
       "      <td>Jerry</td>\n",
       "      <td>[0, 0]</td>\n",
       "      <td>Forget this mario kart get mario kart ds or th...</td>\n",
       "      <td>3</td>\n",
       "      <td>ehhhh</td>\n",
       "      <td>1373414400</td>\n",
       "      <td>07 10, 2013</td>\n",
       "    </tr>\n",
       "    <tr>\n",
       "      <th>3</th>\n",
       "      <td>5649</td>\n",
       "      <td>93541</td>\n",
       "      <td>A1S7NYZF69KYAP</td>\n",
       "      <td>B000VRCNLG</td>\n",
       "      <td>Peanut Pedro</td>\n",
       "      <td>[0, 1]</td>\n",
       "      <td>When I purchased this game from Amazon I certa...</td>\n",
       "      <td>1</td>\n",
       "      <td>Defective Disk/Great Seller</td>\n",
       "      <td>1348963200</td>\n",
       "      <td>09 30, 2012</td>\n",
       "    </tr>\n",
       "    <tr>\n",
       "      <th>4</th>\n",
       "      <td>2955</td>\n",
       "      <td>24169</td>\n",
       "      <td>A2MPAOYEC1KWEI</td>\n",
       "      <td>B00005R5PO</td>\n",
       "      <td>Mali</td>\n",
       "      <td>[0, 0]</td>\n",
       "      <td>I love platform games but not many are out the...</td>\n",
       "      <td>4</td>\n",
       "      <td>It's not Spyro...</td>\n",
       "      <td>1073260800</td>\n",
       "      <td>01 5, 2004</td>\n",
       "    </tr>\n",
       "    <tr>\n",
       "      <th>5</th>\n",
       "      <td>365</td>\n",
       "      <td>19671</td>\n",
       "      <td>ACUYXGCMWVF7S</td>\n",
       "      <td>B00005MO5E</td>\n",
       "      <td>Matthieu P. Raillard</td>\n",
       "      <td>[7, 11]</td>\n",
       "      <td>Madden 2002 is an improvement over 2001, for s...</td>\n",
       "      <td>3</td>\n",
       "      <td>Solid, with one FATAL flaw...</td>\n",
       "      <td>999129600</td>\n",
       "      <td>08 30, 2001</td>\n",
       "    </tr>\n",
       "    <tr>\n",
       "      <th>6</th>\n",
       "      <td>5078</td>\n",
       "      <td>153185</td>\n",
       "      <td>A28TPVUQ4WKKLU</td>\n",
       "      <td>B003GT8IL0</td>\n",
       "      <td>Brotherhood1994x</td>\n",
       "      <td>[0, 0]</td>\n",
       "      <td>This game is a huge step up for Warner Bros. T...</td>\n",
       "      <td>4</td>\n",
       "      <td>I love the F.E.A.R. games</td>\n",
       "      <td>1351641600</td>\n",
       "      <td>10 31, 2012</td>\n",
       "    </tr>\n",
       "    <tr>\n",
       "      <th>7</th>\n",
       "      <td>1310</td>\n",
       "      <td>114822</td>\n",
       "      <td>A2HKGZ1QKK9TU0</td>\n",
       "      <td>B001F0OOF6</td>\n",
       "      <td>Spirited Treasure \"Spirit\"</td>\n",
       "      <td>[1, 2]</td>\n",
       "      <td>This game is horribly glitchy. Even though the...</td>\n",
       "      <td>1</td>\n",
       "      <td>don't waste your money</td>\n",
       "      <td>1229731200</td>\n",
       "      <td>12 20, 2008</td>\n",
       "    </tr>\n",
       "    <tr>\n",
       "      <th>8</th>\n",
       "      <td>4251</td>\n",
       "      <td>52562</td>\n",
       "      <td>A1UPNUCA5ATMPP</td>\n",
       "      <td>B0006TO2HM</td>\n",
       "      <td>David Keyworth</td>\n",
       "      <td>[7, 15]</td>\n",
       "      <td>Is Apollo Justice a true Ace Attorney game? Ye...</td>\n",
       "      <td>3</td>\n",
       "      <td>To all fans of Phoenix Wright: I'm very sorry.</td>\n",
       "      <td>1221350400</td>\n",
       "      <td>09 14, 2008</td>\n",
       "    </tr>\n",
       "    <tr>\n",
       "      <th>9</th>\n",
       "      <td>23</td>\n",
       "      <td>80948</td>\n",
       "      <td>A1KBV71PGFFPVV</td>\n",
       "      <td>B000N60GPK</td>\n",
       "      <td>D. Bowman \"Tech Dork\"</td>\n",
       "      <td>[5, 6]</td>\n",
       "      <td>There is already a lot said in the other revie...</td>\n",
       "      <td>4</td>\n",
       "      <td>Play at the same time with your kids (two-play...</td>\n",
       "      <td>1214611200</td>\n",
       "      <td>06 28, 2008</td>\n",
       "    </tr>\n",
       "  </tbody>\n",
       "</table>\n",
       "</div>"
      ],
      "text/plain": [
       "   level_0   index      reviewerID        asin                reviewerName  \\\n",
       "0    12154   25980  A16416X67B4ZKJ  B00005V6BB                   \"mcfly70\"   \n",
       "1     7333  215010  A2Q2ADX9C9I5WZ  B00AZWE7ES                        MCRC   \n",
       "2     6703  188851  A30IXQWBRD3GU9  B0053BCO00                       Jerry   \n",
       "3     5649   93541  A1S7NYZF69KYAP  B000VRCNLG                Peanut Pedro   \n",
       "4     2955   24169  A2MPAOYEC1KWEI  B00005R5PO                        Mali   \n",
       "5      365   19671   ACUYXGCMWVF7S  B00005MO5E        Matthieu P. Raillard   \n",
       "6     5078  153185  A28TPVUQ4WKKLU  B003GT8IL0            Brotherhood1994x   \n",
       "7     1310  114822  A2HKGZ1QKK9TU0  B001F0OOF6  Spirited Treasure \"Spirit\"   \n",
       "8     4251   52562  A1UPNUCA5ATMPP  B0006TO2HM              David Keyworth   \n",
       "9       23   80948  A1KBV71PGFFPVV  B000N60GPK       D. Bowman \"Tech Dork\"   \n",
       "\n",
       "   helpful                                         reviewText  overall  \\\n",
       "0   [1, 1]  MOH was good and all, but when you reach the c...        4   \n",
       "1   [0, 4]  I am so glad I only paid $15 for this game dur...        2   \n",
       "2   [0, 0]  Forget this mario kart get mario kart ds or th...        3   \n",
       "3   [0, 1]  When I purchased this game from Amazon I certa...        1   \n",
       "4   [0, 0]  I love platform games but not many are out the...        4   \n",
       "5  [7, 11]  Madden 2002 is an improvement over 2001, for s...        3   \n",
       "6   [0, 0]  This game is a huge step up for Warner Bros. T...        4   \n",
       "7   [1, 2]  This game is horribly glitchy. Even though the...        1   \n",
       "8  [7, 15]  Is Apollo Justice a true Ace Attorney game? Ye...        3   \n",
       "9   [5, 6]  There is already a lot said in the other revie...        4   \n",
       "\n",
       "                                             summary  unixReviewTime  \\\n",
       "0  MOH: THE ACTUAL WAR WAS BETTER THE 3RD MCFLY R...      1035158400   \n",
       "1                                    15 fps? really?      1399334400   \n",
       "2                                              ehhhh      1373414400   \n",
       "3                        Defective Disk/Great Seller      1348963200   \n",
       "4                                  It's not Spyro...      1073260800   \n",
       "5                      Solid, with one FATAL flaw...       999129600   \n",
       "6                          I love the F.E.A.R. games      1351641600   \n",
       "7                             don't waste your money      1229731200   \n",
       "8     To all fans of Phoenix Wright: I'm very sorry.      1221350400   \n",
       "9  Play at the same time with your kids (two-play...      1214611200   \n",
       "\n",
       "    reviewTime  \n",
       "0  10 21, 2002  \n",
       "1   05 6, 2014  \n",
       "2  07 10, 2013  \n",
       "3  09 30, 2012  \n",
       "4   01 5, 2004  \n",
       "5  08 30, 2001  \n",
       "6  10 31, 2012  \n",
       "7  12 20, 2008  \n",
       "8  09 14, 2008  \n",
       "9  06 28, 2008  "
      ]
     },
     "execution_count": 59,
     "metadata": {},
     "output_type": "execute_result"
    }
   ],
   "source": [
    "dfReview.head(10)"
   ]
  },
  {
   "cell_type": "code",
   "execution_count": 60,
   "metadata": {},
   "outputs": [
    {
     "name": "stdout",
     "output_type": "stream",
     "text": [
      "<class 'pandas.core.frame.DataFrame'>\n",
      "RangeIndex: 2500 entries, 0 to 2499\n",
      "Data columns (total 11 columns):\n",
      " #   Column          Non-Null Count  Dtype \n",
      "---  ------          --------------  ----- \n",
      " 0   level_0         2500 non-null   int64 \n",
      " 1   index           2500 non-null   int64 \n",
      " 2   reviewerID      2500 non-null   object\n",
      " 3   asin            2500 non-null   object\n",
      " 4   reviewerName    2471 non-null   object\n",
      " 5   helpful         2500 non-null   object\n",
      " 6   reviewText      2499 non-null   object\n",
      " 7   overall         2500 non-null   int64 \n",
      " 8   summary         2500 non-null   object\n",
      " 9   unixReviewTime  2500 non-null   int64 \n",
      " 10  reviewTime      2500 non-null   object\n",
      "dtypes: int64(4), object(7)\n",
      "memory usage: 215.0+ KB\n"
     ]
    }
   ],
   "source": [
    "dfReview.info()"
   ]
  },
  {
   "cell_type": "markdown",
   "metadata": {},
   "source": [
    "* reviewerID - ID of the reviewer, e.g. A2SUAM1J3GNN3B\n",
    "* asin - ID of the product, e.g. 0000013714\n",
    "* reviewerName - name of the reviewer\n",
    "* helpful - helpfulness rating of the review, e.g. 2/3\n",
    "* reviewText - text of the review\n",
    "* overall - rating of the product\n",
    "* summary - summary of the review\n",
    "* unixReviewTime - time of the review (unix time)\n",
    "* reviewTime - time of the review (raw)\n",
    "\n",
    "[source](https://jmcauley.ucsd.edu/data/amazon/)"
   ]
  },
  {
   "cell_type": "code",
   "execution_count": 78,
   "metadata": {},
   "outputs": [
    {
     "data": {
      "text/html": [
       "<pre style=\"white-space:pre;overflow-x:auto;line-height:normal;font-family:Menlo,'DejaVu Sans Mono',consolas,'Courier New',monospace\"><span style=\"color: #800000; text-decoration-color: #800000; font-weight: bold\">reviewText:</span>\n",
       "</pre>\n"
      ],
      "text/plain": [
       "\u001b[1;31mreviewText:\u001b[0m\n"
      ]
     },
     "metadata": {},
     "output_type": "display_data"
    },
    {
     "data": {
      "text/html": [
       "<div>\n",
       "<style scoped>\n",
       "    .dataframe tbody tr th:only-of-type {\n",
       "        vertical-align: middle;\n",
       "    }\n",
       "\n",
       "    .dataframe tbody tr th {\n",
       "        vertical-align: top;\n",
       "    }\n",
       "\n",
       "    .dataframe thead th {\n",
       "        text-align: right;\n",
       "    }\n",
       "</style>\n",
       "<table border=\"1\" class=\"dataframe\">\n",
       "  <thead>\n",
       "    <tr style=\"text-align: right;\">\n",
       "      <th></th>\n",
       "      <th>level_0</th>\n",
       "      <th>index</th>\n",
       "      <th>reviewerID</th>\n",
       "      <th>asin</th>\n",
       "      <th>reviewerName</th>\n",
       "      <th>helpful</th>\n",
       "      <th>reviewText</th>\n",
       "      <th>overall</th>\n",
       "      <th>summary</th>\n",
       "      <th>unixReviewTime</th>\n",
       "      <th>reviewTime</th>\n",
       "    </tr>\n",
       "  </thead>\n",
       "  <tbody>\n",
       "    <tr>\n",
       "      <th>739</th>\n",
       "      <td>4377</td>\n",
       "      <td>102846</td>\n",
       "      <td>ACVE93JPMM92X</td>\n",
       "      <td>B0014ULQB2</td>\n",
       "      <td>Andrew M. Whipple III</td>\n",
       "      <td>[7, 9]</td>\n",
       "      <td>NaN</td>\n",
       "      <td>4</td>\n",
       "      <td>The most gratuitous destruction this generatio...</td>\n",
       "      <td>1251417600</td>\n",
       "      <td>08 28, 2009</td>\n",
       "    </tr>\n",
       "  </tbody>\n",
       "</table>\n",
       "</div>"
      ],
      "text/plain": [
       "     level_0   index     reviewerID        asin           reviewerName  \\\n",
       "739     4377  102846  ACVE93JPMM92X  B0014ULQB2  Andrew M. Whipple III   \n",
       "\n",
       "    helpful reviewText  overall  \\\n",
       "739  [7, 9]        NaN        4   \n",
       "\n",
       "                                               summary  unixReviewTime  \\\n",
       "739  The most gratuitous destruction this generatio...      1251417600   \n",
       "\n",
       "      reviewTime  \n",
       "739  08 28, 2009  "
      ]
     },
     "metadata": {},
     "output_type": "display_data"
    },
    {
     "data": {
      "text/html": [
       "<pre style=\"white-space:pre;overflow-x:auto;line-height:normal;font-family:Menlo,'DejaVu Sans Mono',consolas,'Courier New',monospace\">\n",
       "</pre>\n"
      ],
      "text/plain": [
       "\n"
      ]
     },
     "metadata": {},
     "output_type": "display_data"
    },
    {
     "data": {
      "text/html": [
       "<pre style=\"white-space:pre;overflow-x:auto;line-height:normal;font-family:Menlo,'DejaVu Sans Mono',consolas,'Courier New',monospace\"><span style=\"color: #800000; text-decoration-color: #800000; font-weight: bold\">summary:</span>\n",
       "</pre>\n"
      ],
      "text/plain": [
       "\u001b[1;31msummary:\u001b[0m\n"
      ]
     },
     "metadata": {},
     "output_type": "display_data"
    },
    {
     "data": {
      "text/html": [
       "<div>\n",
       "<style scoped>\n",
       "    .dataframe tbody tr th:only-of-type {\n",
       "        vertical-align: middle;\n",
       "    }\n",
       "\n",
       "    .dataframe tbody tr th {\n",
       "        vertical-align: top;\n",
       "    }\n",
       "\n",
       "    .dataframe thead th {\n",
       "        text-align: right;\n",
       "    }\n",
       "</style>\n",
       "<table border=\"1\" class=\"dataframe\">\n",
       "  <thead>\n",
       "    <tr style=\"text-align: right;\">\n",
       "      <th></th>\n",
       "      <th>level_0</th>\n",
       "      <th>index</th>\n",
       "      <th>reviewerID</th>\n",
       "      <th>asin</th>\n",
       "      <th>reviewerName</th>\n",
       "      <th>helpful</th>\n",
       "      <th>reviewText</th>\n",
       "      <th>overall</th>\n",
       "      <th>summary</th>\n",
       "      <th>unixReviewTime</th>\n",
       "      <th>reviewTime</th>\n",
       "    </tr>\n",
       "  </thead>\n",
       "  <tbody>\n",
       "  </tbody>\n",
       "</table>\n",
       "</div>"
      ],
      "text/plain": [
       "Empty DataFrame\n",
       "Columns: [level_0, index, reviewerID, asin, reviewerName, helpful, reviewText, overall, summary, unixReviewTime, reviewTime]\n",
       "Index: []"
      ]
     },
     "metadata": {},
     "output_type": "display_data"
    },
    {
     "data": {
      "text/html": [
       "<pre style=\"white-space:pre;overflow-x:auto;line-height:normal;font-family:Menlo,'DejaVu Sans Mono',consolas,'Courier New',monospace\">\n",
       "</pre>\n"
      ],
      "text/plain": [
       "\n"
      ]
     },
     "metadata": {},
     "output_type": "display_data"
    },
    {
     "data": {
      "text/html": [
       "<pre style=\"white-space:pre;overflow-x:auto;line-height:normal;font-family:Menlo,'DejaVu Sans Mono',consolas,'Courier New',monospace\"><span style=\"color: #800000; text-decoration-color: #800000; font-weight: bold\">overall:</span>\n",
       "</pre>\n"
      ],
      "text/plain": [
       "\u001b[1;31moverall:\u001b[0m\n"
      ]
     },
     "metadata": {},
     "output_type": "display_data"
    },
    {
     "data": {
      "text/html": [
       "<div>\n",
       "<style scoped>\n",
       "    .dataframe tbody tr th:only-of-type {\n",
       "        vertical-align: middle;\n",
       "    }\n",
       "\n",
       "    .dataframe tbody tr th {\n",
       "        vertical-align: top;\n",
       "    }\n",
       "\n",
       "    .dataframe thead th {\n",
       "        text-align: right;\n",
       "    }\n",
       "</style>\n",
       "<table border=\"1\" class=\"dataframe\">\n",
       "  <thead>\n",
       "    <tr style=\"text-align: right;\">\n",
       "      <th></th>\n",
       "      <th>level_0</th>\n",
       "      <th>index</th>\n",
       "      <th>reviewerID</th>\n",
       "      <th>asin</th>\n",
       "      <th>reviewerName</th>\n",
       "      <th>helpful</th>\n",
       "      <th>reviewText</th>\n",
       "      <th>overall</th>\n",
       "      <th>summary</th>\n",
       "      <th>unixReviewTime</th>\n",
       "      <th>reviewTime</th>\n",
       "    </tr>\n",
       "  </thead>\n",
       "  <tbody>\n",
       "  </tbody>\n",
       "</table>\n",
       "</div>"
      ],
      "text/plain": [
       "Empty DataFrame\n",
       "Columns: [level_0, index, reviewerID, asin, reviewerName, helpful, reviewText, overall, summary, unixReviewTime, reviewTime]\n",
       "Index: []"
      ]
     },
     "metadata": {},
     "output_type": "display_data"
    }
   ],
   "source": [
    "# verificar se existem valores vazios nas colunas de interesse: reviewText, summary e overall\n",
    "print('[bold red]reviewText:[/bold red]')\n",
    "display(dfReview[dfReview['reviewText'].isna()])\n",
    "print()\n",
    "print('[bold red]summary:[/bold red]')\n",
    "display(dfReview[dfReview['summary'].isna()])\n",
    "print()\n",
    "print('[bold red]overall:[/bold red]')\n",
    "display(dfReview[dfReview['overall'].isna()])"
   ]
  },
  {
   "cell_type": "code",
   "execution_count": 79,
   "metadata": {},
   "outputs": [],
   "source": [
    "# remover valores NaN do texto\n",
    "#dfReview.dropna(axis=0, subset=['reviewText'], inplace=True)"
   ]
  },
  {
   "cell_type": "code",
   "execution_count": 93,
   "metadata": {},
   "outputs": [],
   "source": [
    "# como so ha NaN no reviewText ao unir com o summary que complementa o texto\n",
    "# nao vai mais haver NaN, portanto nao ha nescessidade de excluir a linha\n",
    "dfReview['reviewText'] = dfReview.apply(lambda x: x.summary + ' ' + x.reviewText if str(x.reviewText) != 'nan' else x.summary, axis=1)"
   ]
  },
  {
   "cell_type": "code",
   "execution_count": 96,
   "metadata": {},
   "outputs": [],
   "source": [
    "# removendo colunas desnecessarias:\n",
    "dfReview.drop(['level_0', 'index', 'unixReviewTime', 'reviewerID', \"reviewerName\", \"summary\"], axis=1, inplace=True)"
   ]
  },
  {
   "cell_type": "code",
   "execution_count": 97,
   "metadata": {},
   "outputs": [],
   "source": [
    "# convertendo reviewTime em datetime\n",
    "dfReview['reviewTime'] = pd.to_datetime(dfReview['reviewTime'], format='%m %d, %Y')"
   ]
  },
  {
   "cell_type": "code",
   "execution_count": 98,
   "metadata": {},
   "outputs": [],
   "source": [
    "# criar coluna binaria do overall 1 if nota > 3 else 0\n",
    "dfReview['overallBinary'] = dfReview['overall'].apply(lambda x: 1 if x > 3 else 0)"
   ]
  },
  {
   "cell_type": "code",
   "execution_count": 99,
   "metadata": {},
   "outputs": [
    {
     "data": {
      "text/html": [
       "<div>\n",
       "<style scoped>\n",
       "    .dataframe tbody tr th:only-of-type {\n",
       "        vertical-align: middle;\n",
       "    }\n",
       "\n",
       "    .dataframe tbody tr th {\n",
       "        vertical-align: top;\n",
       "    }\n",
       "\n",
       "    .dataframe thead th {\n",
       "        text-align: right;\n",
       "    }\n",
       "</style>\n",
       "<table border=\"1\" class=\"dataframe\">\n",
       "  <thead>\n",
       "    <tr style=\"text-align: right;\">\n",
       "      <th></th>\n",
       "      <th>asin</th>\n",
       "      <th>helpful</th>\n",
       "      <th>reviewText</th>\n",
       "      <th>overall</th>\n",
       "      <th>reviewTime</th>\n",
       "      <th>overallBinary</th>\n",
       "    </tr>\n",
       "  </thead>\n",
       "  <tbody>\n",
       "    <tr>\n",
       "      <th>0</th>\n",
       "      <td>B00005V6BB</td>\n",
       "      <td>[1, 1]</td>\n",
       "      <td>MOH: THE ACTUAL WAR WAS BETTER THE 3RD MCFLY R...</td>\n",
       "      <td>4</td>\n",
       "      <td>2002-10-21</td>\n",
       "      <td>1</td>\n",
       "    </tr>\n",
       "    <tr>\n",
       "      <th>1</th>\n",
       "      <td>B00AZWE7ES</td>\n",
       "      <td>[0, 4]</td>\n",
       "      <td>15 fps? really? I am so glad I only paid $15 f...</td>\n",
       "      <td>2</td>\n",
       "      <td>2014-05-06</td>\n",
       "      <td>0</td>\n",
       "    </tr>\n",
       "    <tr>\n",
       "      <th>2</th>\n",
       "      <td>B0053BCO00</td>\n",
       "      <td>[0, 0]</td>\n",
       "      <td>ehhhh Forget this mario kart get mario kart ds...</td>\n",
       "      <td>3</td>\n",
       "      <td>2013-07-10</td>\n",
       "      <td>0</td>\n",
       "    </tr>\n",
       "    <tr>\n",
       "      <th>3</th>\n",
       "      <td>B000VRCNLG</td>\n",
       "      <td>[0, 1]</td>\n",
       "      <td>Defective Disk/Great Seller When I purchased t...</td>\n",
       "      <td>1</td>\n",
       "      <td>2012-09-30</td>\n",
       "      <td>0</td>\n",
       "    </tr>\n",
       "    <tr>\n",
       "      <th>4</th>\n",
       "      <td>B00005R5PO</td>\n",
       "      <td>[0, 0]</td>\n",
       "      <td>It's not Spyro... I love platform games but no...</td>\n",
       "      <td>4</td>\n",
       "      <td>2004-01-05</td>\n",
       "      <td>1</td>\n",
       "    </tr>\n",
       "    <tr>\n",
       "      <th>...</th>\n",
       "      <td>...</td>\n",
       "      <td>...</td>\n",
       "      <td>...</td>\n",
       "      <td>...</td>\n",
       "      <td>...</td>\n",
       "      <td>...</td>\n",
       "    </tr>\n",
       "    <tr>\n",
       "      <th>2495</th>\n",
       "      <td>B004FSE52C</td>\n",
       "      <td>[5, 12]</td>\n",
       "      <td>sucks Too much quicktime nonsense.  Too many c...</td>\n",
       "      <td>1</td>\n",
       "      <td>2013-10-27</td>\n",
       "      <td>0</td>\n",
       "    </tr>\n",
       "    <tr>\n",
       "      <th>2496</th>\n",
       "      <td>B000BNKSVC</td>\n",
       "      <td>[2, 7]</td>\n",
       "      <td>quickly gets old... it's really a superficial ...</td>\n",
       "      <td>2</td>\n",
       "      <td>2006-03-18</td>\n",
       "      <td>0</td>\n",
       "    </tr>\n",
       "    <tr>\n",
       "      <th>2497</th>\n",
       "      <td>B000FIVC2W</td>\n",
       "      <td>[0, 1]</td>\n",
       "      <td>a MUST PLAY I wanna say this is the best game ...</td>\n",
       "      <td>5</td>\n",
       "      <td>2010-09-22</td>\n",
       "      <td>1</td>\n",
       "    </tr>\n",
       "    <tr>\n",
       "      <th>2498</th>\n",
       "      <td>B0002XL3BA</td>\n",
       "      <td>[2, 4]</td>\n",
       "      <td>A whole lot of fun, for adults only This is on...</td>\n",
       "      <td>5</td>\n",
       "      <td>2005-04-11</td>\n",
       "      <td>1</td>\n",
       "    </tr>\n",
       "    <tr>\n",
       "      <th>2499</th>\n",
       "      <td>B00DBRM3EU</td>\n",
       "      <td>[4, 5]</td>\n",
       "      <td>Should've made it like PS3 version Unlike PS3 ...</td>\n",
       "      <td>2</td>\n",
       "      <td>2013-12-23</td>\n",
       "      <td>0</td>\n",
       "    </tr>\n",
       "  </tbody>\n",
       "</table>\n",
       "<p>2500 rows × 6 columns</p>\n",
       "</div>"
      ],
      "text/plain": [
       "            asin  helpful                                         reviewText  \\\n",
       "0     B00005V6BB   [1, 1]  MOH: THE ACTUAL WAR WAS BETTER THE 3RD MCFLY R...   \n",
       "1     B00AZWE7ES   [0, 4]  15 fps? really? I am so glad I only paid $15 f...   \n",
       "2     B0053BCO00   [0, 0]  ehhhh Forget this mario kart get mario kart ds...   \n",
       "3     B000VRCNLG   [0, 1]  Defective Disk/Great Seller When I purchased t...   \n",
       "4     B00005R5PO   [0, 0]  It's not Spyro... I love platform games but no...   \n",
       "...          ...      ...                                                ...   \n",
       "2495  B004FSE52C  [5, 12]  sucks Too much quicktime nonsense.  Too many c...   \n",
       "2496  B000BNKSVC   [2, 7]  quickly gets old... it's really a superficial ...   \n",
       "2497  B000FIVC2W   [0, 1]  a MUST PLAY I wanna say this is the best game ...   \n",
       "2498  B0002XL3BA   [2, 4]  A whole lot of fun, for adults only This is on...   \n",
       "2499  B00DBRM3EU   [4, 5]  Should've made it like PS3 version Unlike PS3 ...   \n",
       "\n",
       "      overall reviewTime  overallBinary  \n",
       "0           4 2002-10-21              1  \n",
       "1           2 2014-05-06              0  \n",
       "2           3 2013-07-10              0  \n",
       "3           1 2012-09-30              0  \n",
       "4           4 2004-01-05              1  \n",
       "...       ...        ...            ...  \n",
       "2495        1 2013-10-27              0  \n",
       "2496        2 2006-03-18              0  \n",
       "2497        5 2010-09-22              1  \n",
       "2498        5 2005-04-11              1  \n",
       "2499        2 2013-12-23              0  \n",
       "\n",
       "[2500 rows x 6 columns]"
      ]
     },
     "execution_count": 99,
     "metadata": {},
     "output_type": "execute_result"
    }
   ],
   "source": [
    "dfReview"
   ]
  },
  {
   "cell_type": "markdown",
   "metadata": {},
   "source": [
    "### Remocao de stopwords e pontuacao"
   ]
  },
  {
   "cell_type": "code",
   "execution_count": 100,
   "metadata": {
    "scrolled": true
   },
   "outputs": [
    {
     "data": {
      "text/plain": [
       "['i',\n",
       " 'me',\n",
       " 'my',\n",
       " 'myself',\n",
       " 'we',\n",
       " 'our',\n",
       " 'ours',\n",
       " 'ourselves',\n",
       " 'you',\n",
       " \"you're\",\n",
       " \"you've\",\n",
       " \"you'll\",\n",
       " \"you'd\",\n",
       " 'your',\n",
       " 'yours',\n",
       " 'yourself',\n",
       " 'yourselves',\n",
       " 'he',\n",
       " 'him',\n",
       " 'his',\n",
       " 'himself',\n",
       " 'she',\n",
       " \"she's\",\n",
       " 'her',\n",
       " 'hers',\n",
       " 'herself',\n",
       " 'it',\n",
       " \"it's\",\n",
       " 'its',\n",
       " 'itself',\n",
       " 'they',\n",
       " 'them',\n",
       " 'their',\n",
       " 'theirs',\n",
       " 'themselves',\n",
       " 'what',\n",
       " 'which',\n",
       " 'who',\n",
       " 'whom',\n",
       " 'this',\n",
       " 'that',\n",
       " \"that'll\",\n",
       " 'these',\n",
       " 'those',\n",
       " 'am',\n",
       " 'is',\n",
       " 'are',\n",
       " 'was',\n",
       " 'were',\n",
       " 'be',\n",
       " 'been',\n",
       " 'being',\n",
       " 'have',\n",
       " 'has',\n",
       " 'had',\n",
       " 'having',\n",
       " 'do',\n",
       " 'does',\n",
       " 'did',\n",
       " 'doing',\n",
       " 'a',\n",
       " 'an',\n",
       " 'the',\n",
       " 'and',\n",
       " 'but',\n",
       " 'if',\n",
       " 'or',\n",
       " 'because',\n",
       " 'as',\n",
       " 'until',\n",
       " 'while',\n",
       " 'of',\n",
       " 'at',\n",
       " 'by',\n",
       " 'for',\n",
       " 'with',\n",
       " 'about',\n",
       " 'against',\n",
       " 'between',\n",
       " 'into',\n",
       " 'through',\n",
       " 'during',\n",
       " 'before',\n",
       " 'after',\n",
       " 'above',\n",
       " 'below',\n",
       " 'to',\n",
       " 'from',\n",
       " 'up',\n",
       " 'down',\n",
       " 'in',\n",
       " 'out',\n",
       " 'on',\n",
       " 'off',\n",
       " 'over',\n",
       " 'under',\n",
       " 'again',\n",
       " 'further',\n",
       " 'then',\n",
       " 'once',\n",
       " 'here',\n",
       " 'there',\n",
       " 'when',\n",
       " 'where',\n",
       " 'why',\n",
       " 'how',\n",
       " 'all',\n",
       " 'any',\n",
       " 'both',\n",
       " 'each',\n",
       " 'few',\n",
       " 'more',\n",
       " 'most',\n",
       " 'other',\n",
       " 'some',\n",
       " 'such',\n",
       " 'no',\n",
       " 'nor',\n",
       " 'not',\n",
       " 'only',\n",
       " 'own',\n",
       " 'same',\n",
       " 'so',\n",
       " 'than',\n",
       " 'too',\n",
       " 'very',\n",
       " 's',\n",
       " 't',\n",
       " 'can',\n",
       " 'will',\n",
       " 'just',\n",
       " 'don',\n",
       " \"don't\",\n",
       " 'should',\n",
       " \"should've\",\n",
       " 'now',\n",
       " 'd',\n",
       " 'll',\n",
       " 'm',\n",
       " 'o',\n",
       " 're',\n",
       " 've',\n",
       " 'y',\n",
       " 'ain',\n",
       " 'aren',\n",
       " \"aren't\",\n",
       " 'couldn',\n",
       " \"couldn't\",\n",
       " 'didn',\n",
       " \"didn't\",\n",
       " 'doesn',\n",
       " \"doesn't\",\n",
       " 'hadn',\n",
       " \"hadn't\",\n",
       " 'hasn',\n",
       " \"hasn't\",\n",
       " 'haven',\n",
       " \"haven't\",\n",
       " 'isn',\n",
       " \"isn't\",\n",
       " 'ma',\n",
       " 'mightn',\n",
       " \"mightn't\",\n",
       " 'mustn',\n",
       " \"mustn't\",\n",
       " 'needn',\n",
       " \"needn't\",\n",
       " 'shan',\n",
       " \"shan't\",\n",
       " 'shouldn',\n",
       " \"shouldn't\",\n",
       " 'wasn',\n",
       " \"wasn't\",\n",
       " 'weren',\n",
       " \"weren't\",\n",
       " 'won',\n",
       " \"won't\",\n",
       " 'wouldn',\n",
       " \"wouldn't\"]"
      ]
     },
     "execution_count": 100,
     "metadata": {},
     "output_type": "execute_result"
    }
   ],
   "source": [
    "# Lista com as stopwords\n",
    "stopwords.words('english')"
   ]
  },
  {
   "cell_type": "code",
   "execution_count": 101,
   "metadata": {},
   "outputs": [],
   "source": [
    "def tratamento_basico(texto,\n",
    "                      pontuacao = re.compile('|'.join(map(re.escape, string.punctuation))),\n",
    "                      stpwrds = stopwords.words('english')):\n",
    "    \"\"\"tratamento basico do texto com remocao de pontucao e e stopwords\n",
    "    \n",
    "    input:\n",
    "         - texto: (str) -> menssagem a ser processada\n",
    "         - pontuacao (re.Pattern) -> caracteres de pontuacao a serem removidos\n",
    "                                     compilados em uma regex\n",
    "                                     default: providos pelo string.punctuation\n",
    "                                              usando o re.compile('|'.join(map(re.escape, string.punctuation)))\n",
    "         - stpwrds (list)  -> lista de stopwords\n",
    "                              default: providos pela funcao stopwords.words('english') da lib nltk.corpus\n",
    "    output:\n",
    "         (str) ->  menssagem pre-processada em caixa baixa\n",
    "    \"\"\"\n",
    "    \n",
    "    # Caixa baixa\n",
    "    texto = texto.lower()\n",
    "    \n",
    "    # para pontucao so usar o metodo sub da regex de entrada\n",
    "    texto = pontuacao.sub(\"\", texto)\n",
    "    \n",
    "    # para as stopwords fazer por compreensao de lista, juntando chars em\n",
    "    # palavras para nao remover as sopwords que estejam dentro de uma outra palavra\n",
    "    # e usar os texto em caixa baixa para dar match\n",
    "    texto = [palavra for palavra in texto.split() if palavra not in stpwrds]\n",
    "    \n",
    "    # Retorna vetor pra um texto\n",
    "    texto = \" \".join(texto)\n",
    "    \n",
    "    return texto"
   ]
  },
  {
   "cell_type": "code",
   "execution_count": 122,
   "metadata": {},
   "outputs": [
    {
     "data": {
      "text/html": [
       "<pre style=\"white-space:pre;overflow-x:auto;line-height:normal;font-family:Menlo,'DejaVu Sans Mono',consolas,'Courier New',monospace\"><span style=\"color: #800000; text-decoration-color: #800000; font-weight: bold\">antes do tratamento_basico():</span>\n",
       "</pre>\n"
      ],
      "text/plain": [
       "\u001b[1;31mantes do tratamento_basico\u001b[0m\u001b[1;31m(\u001b[0m\u001b[1;31m)\u001b[0m\u001b[1;31m:\u001b[0m\n"
      ]
     },
     "metadata": {},
     "output_type": "display_data"
    },
    {
     "data": {
      "text/html": [
       "<pre style=\"white-space:pre;overflow-x:auto;line-height:normal;font-family:Menlo,'DejaVu Sans Mono',consolas,'Courier New',monospace\">\n",
       "</pre>\n"
      ],
      "text/plain": [
       "\n"
      ]
     },
     "metadata": {},
     "output_type": "display_data"
    },
    {
     "data": {
      "text/plain": [
       "0    MOH: THE ACTUAL WAR WAS BETTER THE 3RD MCFLY R...\n",
       "1    15 fps? really? I am so glad I only paid $15 f...\n",
       "2    ehhhh Forget this mario kart get mario kart ds...\n",
       "3    Defective Disk/Great Seller When I purchased t...\n",
       "4    It's not Spyro... I love platform games but no...\n",
       "5    Solid, with one FATAL flaw... Madden 2002 is a...\n",
       "6    I love the F.E.A.R. games This game is a huge ...\n",
       "7    don't waste your money This game is horribly g...\n",
       "8    To all fans of Phoenix Wright: I'm very sorry....\n",
       "9    Play at the same time with your kids (two-play...\n",
       "Name: reviewText, dtype: object"
      ]
     },
     "execution_count": 122,
     "metadata": {},
     "output_type": "execute_result"
    }
   ],
   "source": [
    "print('[bold red]antes do tratamento_basico():[/bold red]')\n",
    "print()\n",
    "dfReview['reviewText'].head(10)"
   ]
  },
  {
   "cell_type": "code",
   "execution_count": 261,
   "metadata": {},
   "outputs": [
    {
     "data": {
      "text/html": [
       "<pre style=\"white-space:pre;overflow-x:auto;line-height:normal;font-family:Menlo,'DejaVu Sans Mono',consolas,'Courier New',monospace\"><span style=\"color: #800000; text-decoration-color: #800000; font-weight: bold\">depois do tratamento_basico():</span>\n",
       "</pre>\n"
      ],
      "text/plain": [
       "\u001b[1;31mdepois do tratamento_basico\u001b[0m\u001b[1;31m(\u001b[0m\u001b[1;31m)\u001b[0m\u001b[1;31m:\u001b[0m\n"
      ]
     },
     "metadata": {},
     "output_type": "display_data"
    },
    {
     "data": {
      "text/html": [
       "<pre style=\"white-space:pre;overflow-x:auto;line-height:normal;font-family:Menlo,'DejaVu Sans Mono',consolas,'Courier New',monospace\">\n",
       "</pre>\n"
      ],
      "text/plain": [
       "\n"
      ]
     },
     "metadata": {},
     "output_type": "display_data"
    },
    {
     "data": {
      "text/plain": [
       "0    moh actual war better rd mcfly review moh good...\n",
       "1    fps really glad paid sonys golden week saleit ...\n",
       "2    ehhhh forget mario kart get mario kart ds one ...\n",
       "3    defective diskgreat seller purchased amazon ce...\n",
       "4    spyro love platform many tried crash bandicoot...\n",
       "5    solid one fatal flaw madden improvement sure e...\n",
       "6    love fear huge step warner bros graphics mecha...\n",
       "7    dont waste money horribly glitchy even though ...\n",
       "8    fans phoenix wright im sorry apollo justice tr...\n",
       "9    play time kids twoplayer coop already lot said...\n",
       "Name: reviewText_prep, dtype: object"
      ]
     },
     "execution_count": 261,
     "metadata": {},
     "output_type": "execute_result"
    }
   ],
   "source": [
    "print('[bold red]depois do tratamento_basico():[/bold red]')\n",
    "print()\n",
    "\n",
    "# remover os numeros tambem\n",
    "# incluir a apalvra game nos stopwords\n",
    "StopWords = stopwords.words('english')\n",
    "StopWords.append('game')\n",
    "StopWords.append('games')\n",
    "dfReview['reviewText_prep'] = dfReview['reviewText'].apply(lambda x:(tratamento_basico(x, \n",
    "                                                                                       pontuacao=re.compile('|'.join(map(re.escape, string.punctuation+'1234567890'))),\n",
    "                                                                                       stpwrds=StopWords)))\n",
    "dfReview['reviewText_prep'].head(10)"
   ]
  },
  {
   "cell_type": "code",
   "execution_count": 262,
   "metadata": {},
   "outputs": [],
   "source": [
    "# adiciona coluna com quantidade de palavras\n",
    "dfReview['len_review_words'] = dfReview['reviewText_prep'].apply(lambda x:len(x.split()))"
   ]
  },
  {
   "cell_type": "code",
   "execution_count": 263,
   "metadata": {},
   "outputs": [
    {
     "data": {
      "text/html": [
       "<div>\n",
       "<style scoped>\n",
       "    .dataframe tbody tr th:only-of-type {\n",
       "        vertical-align: middle;\n",
       "    }\n",
       "\n",
       "    .dataframe tbody tr th {\n",
       "        vertical-align: top;\n",
       "    }\n",
       "\n",
       "    .dataframe thead th {\n",
       "        text-align: right;\n",
       "    }\n",
       "</style>\n",
       "<table border=\"1\" class=\"dataframe\">\n",
       "  <thead>\n",
       "    <tr style=\"text-align: right;\">\n",
       "      <th></th>\n",
       "      <th>asin</th>\n",
       "      <th>helpful</th>\n",
       "      <th>reviewText</th>\n",
       "      <th>overall</th>\n",
       "      <th>reviewTime</th>\n",
       "      <th>overallBinary</th>\n",
       "      <th>reviewText_prep</th>\n",
       "      <th>len_review_words</th>\n",
       "    </tr>\n",
       "  </thead>\n",
       "  <tbody>\n",
       "    <tr>\n",
       "      <th>0</th>\n",
       "      <td>B00005V6BB</td>\n",
       "      <td>[1, 1]</td>\n",
       "      <td>MOH: THE ACTUAL WAR WAS BETTER THE 3RD MCFLY R...</td>\n",
       "      <td>4</td>\n",
       "      <td>2002-10-21</td>\n",
       "      <td>1</td>\n",
       "      <td>moh actual war better rd mcfly review moh good...</td>\n",
       "      <td>81</td>\n",
       "    </tr>\n",
       "    <tr>\n",
       "      <th>1</th>\n",
       "      <td>B00AZWE7ES</td>\n",
       "      <td>[0, 4]</td>\n",
       "      <td>15 fps? really? I am so glad I only paid $15 f...</td>\n",
       "      <td>2</td>\n",
       "      <td>2014-05-06</td>\n",
       "      <td>0</td>\n",
       "      <td>fps really glad paid sonys golden week saleit ...</td>\n",
       "      <td>46</td>\n",
       "    </tr>\n",
       "    <tr>\n",
       "      <th>2</th>\n",
       "      <td>B0053BCO00</td>\n",
       "      <td>[0, 0]</td>\n",
       "      <td>ehhhh Forget this mario kart get mario kart ds...</td>\n",
       "      <td>3</td>\n",
       "      <td>2013-07-10</td>\n",
       "      <td>0</td>\n",
       "      <td>ehhhh forget mario kart get mario kart ds one ...</td>\n",
       "      <td>16</td>\n",
       "    </tr>\n",
       "    <tr>\n",
       "      <th>3</th>\n",
       "      <td>B000VRCNLG</td>\n",
       "      <td>[0, 1]</td>\n",
       "      <td>Defective Disk/Great Seller When I purchased t...</td>\n",
       "      <td>1</td>\n",
       "      <td>2012-09-30</td>\n",
       "      <td>0</td>\n",
       "      <td>defective diskgreat seller purchased amazon ce...</td>\n",
       "      <td>57</td>\n",
       "    </tr>\n",
       "    <tr>\n",
       "      <th>4</th>\n",
       "      <td>B00005R5PO</td>\n",
       "      <td>[0, 0]</td>\n",
       "      <td>It's not Spyro... I love platform games but no...</td>\n",
       "      <td>4</td>\n",
       "      <td>2004-01-05</td>\n",
       "      <td>1</td>\n",
       "      <td>spyro love platform many tried crash bandicoot...</td>\n",
       "      <td>67</td>\n",
       "    </tr>\n",
       "    <tr>\n",
       "      <th>...</th>\n",
       "      <td>...</td>\n",
       "      <td>...</td>\n",
       "      <td>...</td>\n",
       "      <td>...</td>\n",
       "      <td>...</td>\n",
       "      <td>...</td>\n",
       "      <td>...</td>\n",
       "      <td>...</td>\n",
       "    </tr>\n",
       "    <tr>\n",
       "      <th>2495</th>\n",
       "      <td>B004FSE52C</td>\n",
       "      <td>[5, 12]</td>\n",
       "      <td>sucks Too much quicktime nonsense.  Too many c...</td>\n",
       "      <td>1</td>\n",
       "      <td>2013-10-27</td>\n",
       "      <td>0</td>\n",
       "      <td>sucks much quicktime nonsense many cutscenes h...</td>\n",
       "      <td>15</td>\n",
       "    </tr>\n",
       "    <tr>\n",
       "      <th>2496</th>\n",
       "      <td>B000BNKSVC</td>\n",
       "      <td>[2, 7]</td>\n",
       "      <td>quickly gets old... it's really a superficial ...</td>\n",
       "      <td>2</td>\n",
       "      <td>2006-03-18</td>\n",
       "      <td>0</td>\n",
       "      <td>quickly gets old really superficial lacking re...</td>\n",
       "      <td>27</td>\n",
       "    </tr>\n",
       "    <tr>\n",
       "      <th>2497</th>\n",
       "      <td>B000FIVC2W</td>\n",
       "      <td>[0, 1]</td>\n",
       "      <td>a MUST PLAY I wanna say this is the best game ...</td>\n",
       "      <td>5</td>\n",
       "      <td>2010-09-22</td>\n",
       "      <td>1</td>\n",
       "      <td>must play wanna say best ps adults battle syst...</td>\n",
       "      <td>38</td>\n",
       "    </tr>\n",
       "    <tr>\n",
       "      <th>2498</th>\n",
       "      <td>B0002XL3BA</td>\n",
       "      <td>[2, 4]</td>\n",
       "      <td>A whole lot of fun, for adults only This is on...</td>\n",
       "      <td>5</td>\n",
       "      <td>2005-04-11</td>\n",
       "      <td>1</td>\n",
       "      <td>whole lot fun adults one fun video ive played ...</td>\n",
       "      <td>41</td>\n",
       "    </tr>\n",
       "    <tr>\n",
       "      <th>2499</th>\n",
       "      <td>B00DBRM3EU</td>\n",
       "      <td>[4, 5]</td>\n",
       "      <td>Should've made it like PS3 version Unlike PS3 ...</td>\n",
       "      <td>2</td>\n",
       "      <td>2013-12-23</td>\n",
       "      <td>0</td>\n",
       "      <td>shouldve made like ps version unlike ps versio...</td>\n",
       "      <td>42</td>\n",
       "    </tr>\n",
       "  </tbody>\n",
       "</table>\n",
       "<p>2500 rows × 8 columns</p>\n",
       "</div>"
      ],
      "text/plain": [
       "            asin  helpful                                         reviewText  \\\n",
       "0     B00005V6BB   [1, 1]  MOH: THE ACTUAL WAR WAS BETTER THE 3RD MCFLY R...   \n",
       "1     B00AZWE7ES   [0, 4]  15 fps? really? I am so glad I only paid $15 f...   \n",
       "2     B0053BCO00   [0, 0]  ehhhh Forget this mario kart get mario kart ds...   \n",
       "3     B000VRCNLG   [0, 1]  Defective Disk/Great Seller When I purchased t...   \n",
       "4     B00005R5PO   [0, 0]  It's not Spyro... I love platform games but no...   \n",
       "...          ...      ...                                                ...   \n",
       "2495  B004FSE52C  [5, 12]  sucks Too much quicktime nonsense.  Too many c...   \n",
       "2496  B000BNKSVC   [2, 7]  quickly gets old... it's really a superficial ...   \n",
       "2497  B000FIVC2W   [0, 1]  a MUST PLAY I wanna say this is the best game ...   \n",
       "2498  B0002XL3BA   [2, 4]  A whole lot of fun, for adults only This is on...   \n",
       "2499  B00DBRM3EU   [4, 5]  Should've made it like PS3 version Unlike PS3 ...   \n",
       "\n",
       "      overall reviewTime  overallBinary  \\\n",
       "0           4 2002-10-21              1   \n",
       "1           2 2014-05-06              0   \n",
       "2           3 2013-07-10              0   \n",
       "3           1 2012-09-30              0   \n",
       "4           4 2004-01-05              1   \n",
       "...       ...        ...            ...   \n",
       "2495        1 2013-10-27              0   \n",
       "2496        2 2006-03-18              0   \n",
       "2497        5 2010-09-22              1   \n",
       "2498        5 2005-04-11              1   \n",
       "2499        2 2013-12-23              0   \n",
       "\n",
       "                                        reviewText_prep  len_review_words  \n",
       "0     moh actual war better rd mcfly review moh good...                81  \n",
       "1     fps really glad paid sonys golden week saleit ...                46  \n",
       "2     ehhhh forget mario kart get mario kart ds one ...                16  \n",
       "3     defective diskgreat seller purchased amazon ce...                57  \n",
       "4     spyro love platform many tried crash bandicoot...                67  \n",
       "...                                                 ...               ...  \n",
       "2495  sucks much quicktime nonsense many cutscenes h...                15  \n",
       "2496  quickly gets old really superficial lacking re...                27  \n",
       "2497  must play wanna say best ps adults battle syst...                38  \n",
       "2498  whole lot fun adults one fun video ive played ...                41  \n",
       "2499  shouldve made like ps version unlike ps versio...                42  \n",
       "\n",
       "[2500 rows x 8 columns]"
      ]
     },
     "execution_count": 263,
     "metadata": {},
     "output_type": "execute_result"
    }
   ],
   "source": [
    "dfReview"
   ]
  },
  {
   "cell_type": "code",
   "execution_count": 264,
   "metadata": {},
   "outputs": [
    {
     "data": {
      "image/png": "[encoded data removed]",
      "text/plain": [
       "<Figure size 2160x720 with 2 Axes>"
      ]
     },
     "metadata": {},
     "output_type": "display_data"
    }
   ],
   "source": [
    "#plt.figure(figsize=(20,9))\n",
    "#gs = gridspec.GridSpec(2, 1)\n",
    "\n",
    "#ax0 = plt.subplot(gs[0:1])\n",
    "#ax1 = plt.subplot(gs[1:])\n",
    "\n",
    "#p = dfReview['len_review_words'].plot(kind='box', ax=ax0, vert=False, )\n",
    "fig, ax = plt.subplots(1, 2, figsize=(30, 10))\n",
    "p = dfReview['len_review_words'].plot(kind='hist', bins=150, ax=ax[0], alpha=.8, color='c', label='words')\n",
    "p = sns.boxplot(data=dfReview, x='overall', y='len_review_words', palette='pastel', ax=ax[1])"
   ]
  },
  {
   "cell_type": "markdown",
   "metadata": {},
   "source": [
    "### Lemmatização"
   ]
  },
  {
   "cell_type": "code",
   "execution_count": 265,
   "metadata": {},
   "outputs": [],
   "source": [
    "lemmantizador = nltk.WordNetLemmatizer()\n",
    "def lemmanizacao(texto):\n",
    "    \"\"\"retorna texto lemmantizado\n",
    "    \n",
    "    entrada:\n",
    "        - texto(str): string a ser lemmantizada\n",
    "    saida:\n",
    "        - (str): texto de entrada lemmantizado\n",
    "    \"\"\"\n",
    "    \n",
    "    tokentxt =  [lemmantizador.lemmatize(palavra) for palavra in texto.split()]\n",
    "    \n",
    "    return ' '.join(tokentxt)"
   ]
  },
  {
   "cell_type": "code",
   "execution_count": 266,
   "metadata": {},
   "outputs": [],
   "source": [
    "dfReview['reviewText_prep'] =  dfReview['reviewText_prep'].apply(lambda x:lemmanizacao(x))"
   ]
  },
  {
   "cell_type": "code",
   "execution_count": 267,
   "metadata": {},
   "outputs": [
    {
     "data": {
      "text/plain": [
       "0       moh actual war better rd mcfly review moh good...\n",
       "1       fps really glad paid sonys golden week saleit ...\n",
       "2       ehhhh forget mario kart get mario kart d one w...\n",
       "3       defective diskgreat seller purchased amazon ce...\n",
       "4       spyro love platform many tried crash bandicoot...\n",
       "                              ...                        \n",
       "2495    suck much quicktime nonsense many cutscenes ho...\n",
       "2496    quickly get old really superficial lacking rea...\n",
       "2497    must play wanna say best p adult battle system...\n",
       "2498    whole lot fun adult one fun video ive played l...\n",
       "2499    shouldve made like p version unlike p version ...\n",
       "Name: reviewText_prep, Length: 2500, dtype: object"
      ]
     },
     "execution_count": 267,
     "metadata": {},
     "output_type": "execute_result"
    }
   ],
   "source": [
    "dfReview['reviewText_prep']"
   ]
  },
  {
   "cell_type": "code",
   "execution_count": 268,
   "metadata": {},
   "outputs": [],
   "source": [
    "ret, mask = cv.threshold(cv.imread('controller.png'),\n",
    "                         55,\n",
    "                         255,\n",
    "                         cv.THRESH_BINARY)"
   ]
  },
  {
   "cell_type": "code",
   "execution_count": 269,
   "metadata": {},
   "outputs": [],
   "source": [
    "#plt.imshow(mask)\n",
    "#plt.axis(\"off\")"
   ]
  },
  {
   "cell_type": "code",
   "execution_count": 271,
   "metadata": {},
   "outputs": [
    {
     "data": {
      "image/png": "[encoded data removed]",
      "text/plain": [
       "<Figure size 1080x720 with 1 Axes>"
      ]
     },
     "metadata": {},
     "output_type": "display_data"
    }
   ],
   "source": [
    "text = ' '.join(list(dfReview['reviewText_prep']))\n",
    "\n",
    "wordcloud = WordCloud(background_color=\"white\",\n",
    "                      width=500, height=500,\n",
    "                      mask=mask, \n",
    "                      font_path='Gamer.ttf',\n",
    "                      colormap=\"cubehelix\",).generate(text)\n",
    "\n",
    "plt.figure(figsize=(15,10))\n",
    "p = plt.imshow(wordcloud, interpolation='bilinear')\n",
    "p = plt.axis(\"off\")"
   ]
  },
  {
   "cell_type": "code",
   "execution_count": null,
   "metadata": {},
   "outputs": [],
   "source": []
  },
  {
   "cell_type": "code",
   "execution_count": null,
   "metadata": {},
   "outputs": [],
   "source": []
  }
 ],
 "metadata": {
  "kernelspec": {
   "display_name": "Python 3",
   "language": "python",
   "name": "python3"
  },
  "language_info": {
   "codemirror_mode": {
    "name": "ipython",
    "version": 3
   },
   "file_extension": ".py",
   "mimetype": "text/x-python",
   "name": "python",
   "nbconvert_exporter": "python",
   "pygments_lexer": "ipython3",
   "version": "3.8.5"
  },
  "widgets": {
   "application/vnd.jupyter.widget-state+json": {
    "state": {},
    "version_major": 2,
    "version_minor": 0
   }
  }
 },
 "nbformat": 4,
 "nbformat_minor": 4
}
