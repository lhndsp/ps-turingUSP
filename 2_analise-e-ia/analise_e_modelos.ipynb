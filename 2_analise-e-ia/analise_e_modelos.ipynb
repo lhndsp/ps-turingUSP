{
 "cells": [
  {
   "cell_type": "code",
   "execution_count": 5,
   "metadata": {},
   "outputs": [
    {
     "data": {
      "application/javascript": [
       "IPython.notebook.set_autosave_interval(2000)"
      ]
     },
     "metadata": {},
     "output_type": "display_data"
    },
    {
     "name": "stdout",
     "output_type": "stream",
     "text": [
      "Autosaving every 2 seconds\n",
      "The autoreload extension is already loaded. To reload it, use:\n",
      "  %reload_ext autoreload\n"
     ]
    }
   ],
   "source": [
    "%autosave 2\n",
    "%load_ext autoreload\n",
    "%autoreload 2\n",
    "%matplotlib inline"
   ]
  },
  {
   "cell_type": "markdown",
   "metadata": {},
   "source": [
    "# Analíse de reviews de videogames da Amazon"
   ]
  },
  {
   "cell_type": "markdown",
   "metadata": {},
   "source": [
    "## Referencias\n",
    "- [NLTK Book Online](http://www.nltk.org/book/)\n",
    "\n",
    "* __Turing Talks__\n",
    "    - [Introdução a NLTK com Dom Casmurro](https://medium.com/turing-talks/uma-an%C3%A1lise-de-dom-casmurro-com-nltk-343d72dd47a7)\n",
    "    - [Introdução ao Processamento de Linguagem Natural com Baco Exu do Blues\n",
    "](https://medium.com/turing-talks/introdu%C3%A7%C3%A3o-ao-processamento-de-linguagem-natural-com-baco-exu-do-blues-17cbb7404258)\n",
    "    - [Introdução a Bag of Words e TF-IDF](https://medium.com/turing-talks/introdu%C3%A7%C3%A3o-a-bag-of-words-e-tf-idf-43a128151ce9)\n",
    "        - [notebook](https://github.com/turing-usp/BoW-e-TFIDF/blob/master/BoW_e_TFIDF.ipynb)\n",
    "    - [Sua primeira análise de sentimentos com scikit-learn](https://medium.com/turing-talks/sua-primeira-an%C3%A1lise-de-sentimentos-com-scikit-learn-a47c088ea7bd)\n",
    "        - [modelos](https://www.kaggle.com/camillafonseca/nlp-an-lise-de-sentimento-do-olist-para-iniciantes#Modelos)\n",
    "    - [Como Avaliar Seu Modelo de Classificação](https://medium.com/turing-talks/como-avaliar-seu-modelo-de-classifica%C3%A7%C3%A3o-acd2a03690e)"
   ]
  },
  {
   "cell_type": "code",
   "execution_count": 75,
   "metadata": {},
   "outputs": [],
   "source": [
    "from rich import print # print ficar bonitinho\n",
    "from IPython.display import display"
   ]
  },
  {
   "cell_type": "code",
   "execution_count": 7,
   "metadata": {},
   "outputs": [],
   "source": [
    "import pandas as pd\n",
    "import numpy as np"
   ]
  },
  {
   "cell_type": "code",
   "execution_count": 305,
   "metadata": {},
   "outputs": [],
   "source": [
    "#import nltk\n",
    "from nltk.corpus import stopwords # remover stopwords\n",
    "from nltk import WordNetLemmatizer\n",
    "from nltk.probability import FreqDist\n",
    "import string, re # remover pontucao\n",
    "from sklearn.feature_extraction.text import TfidfVectorizer # TF-IDF\n",
    "from sklearn.ensemble import RandomForestClassifier"
   ]
  },
  {
   "cell_type": "code",
   "execution_count": 9,
   "metadata": {},
   "outputs": [],
   "source": [
    "#nltk.download()"
   ]
  },
  {
   "cell_type": "code",
   "execution_count": 10,
   "metadata": {},
   "outputs": [],
   "source": [
    "from matplotlib import pyplot as plt\n",
    "from matplotlib import gridspec\n",
    "import matplotlib as mpl\n",
    "import seaborn as sns"
   ]
  },
  {
   "cell_type": "code",
   "execution_count": 11,
   "metadata": {},
   "outputs": [],
   "source": [
    "plt.style.use('seaborn')\n",
    "\n",
    "font = {'family' : 'DejaVu Sans',\n",
    "        'weight' : 'bold',\n",
    "        'size'   : '16'}\n",
    "\n",
    "mpl.rc('font', **font)"
   ]
  },
  {
   "cell_type": "code",
   "execution_count": 142,
   "metadata": {},
   "outputs": [],
   "source": [
    "from wordcloud import WordCloud\n",
    "import cv2 as cv # Pra mascara do wordcloud"
   ]
  },
  {
   "cell_type": "code",
   "execution_count": 326,
   "metadata": {},
   "outputs": [],
   "source": [
    "dfReview = pd.read_csv('video_games_reviews_train.csv')"
   ]
  },
  {
   "cell_type": "markdown",
   "metadata": {},
   "source": [
    "## Pré-processamento e Análise do corpus\n",
    "\n",
    "\n",
    "* [CountVectorizer](https://scikit-learn.org/stable/modules/generated/sklearn.feature_extraction.text.CountVectorizer.html#sklearn.feature_extraction.text.CountVectorizer)\n",
    "    * [Sparse matrix](https://en.wikipedia.org/wiki/Sparse_matrix)\n",
    "* [TfidfTransformer](https://scikit-learn.org/stable/modules/generated/sklearn.feature_extraction.text.TfidfTransformer.html)\n",
    "* [Naive Bayes](https://scikit-learn.org/stable/modules/naive_bayes.html)\n",
    "* [Pipeline](https://scikit-learn.org/stable/modules/generated/sklearn.pipeline.Pipeline.html)"
   ]
  },
  {
   "cell_type": "markdown",
   "metadata": {},
   "source": [
    "### Visualizacao dos dados e tratamento das colunas"
   ]
  },
  {
   "cell_type": "code",
   "execution_count": 327,
   "metadata": {},
   "outputs": [
    {
     "data": {
      "text/html": [
       "<div>\n",
       "<style scoped>\n",
       "    .dataframe tbody tr th:only-of-type {\n",
       "        vertical-align: middle;\n",
       "    }\n",
       "\n",
       "    .dataframe tbody tr th {\n",
       "        vertical-align: top;\n",
       "    }\n",
       "\n",
       "    .dataframe thead th {\n",
       "        text-align: right;\n",
       "    }\n",
       "</style>\n",
       "<table border=\"1\" class=\"dataframe\">\n",
       "  <thead>\n",
       "    <tr style=\"text-align: right;\">\n",
       "      <th></th>\n",
       "      <th>level_0</th>\n",
       "      <th>index</th>\n",
       "      <th>reviewerID</th>\n",
       "      <th>asin</th>\n",
       "      <th>reviewerName</th>\n",
       "      <th>helpful</th>\n",
       "      <th>reviewText</th>\n",
       "      <th>overall</th>\n",
       "      <th>summary</th>\n",
       "      <th>unixReviewTime</th>\n",
       "      <th>reviewTime</th>\n",
       "    </tr>\n",
       "  </thead>\n",
       "  <tbody>\n",
       "    <tr>\n",
       "      <th>0</th>\n",
       "      <td>9604</td>\n",
       "      <td>222941</td>\n",
       "      <td>A1U1AK7HKB2BLN</td>\n",
       "      <td>B00CX6XKK6</td>\n",
       "      <td>jayfer</td>\n",
       "      <td>[4, 51]</td>\n",
       "      <td>ive got to play this on both consoles now and ...</td>\n",
       "      <td>1</td>\n",
       "      <td>wasted 500 dollars on the xbox one.</td>\n",
       "      <td>1385078400</td>\n",
       "      <td>11 22, 2013</td>\n",
       "    </tr>\n",
       "    <tr>\n",
       "      <th>1</th>\n",
       "      <td>5428</td>\n",
       "      <td>106670</td>\n",
       "      <td>A1L1D50VH2AX7J</td>\n",
       "      <td>B0017UFWMS</td>\n",
       "      <td>Anjoyla</td>\n",
       "      <td>[0, 0]</td>\n",
       "      <td>This game gives you a series of word puzzles t...</td>\n",
       "      <td>2</td>\n",
       "      <td>Margots Word Brain</td>\n",
       "      <td>1321833600</td>\n",
       "      <td>11 21, 2011</td>\n",
       "    </tr>\n",
       "    <tr>\n",
       "      <th>2</th>\n",
       "      <td>198</td>\n",
       "      <td>24455</td>\n",
       "      <td>A2JWU211CM0BYE</td>\n",
       "      <td>B00005RCR0</td>\n",
       "      <td>DCN2049</td>\n",
       "      <td>[0, 1]</td>\n",
       "      <td>You should pretty much already know what this ...</td>\n",
       "      <td>4</td>\n",
       "      <td>Excellent product, watch the discs</td>\n",
       "      <td>1360540800</td>\n",
       "      <td>02 11, 2013</td>\n",
       "    </tr>\n",
       "    <tr>\n",
       "      <th>3</th>\n",
       "      <td>6070</td>\n",
       "      <td>42574</td>\n",
       "      <td>A1DP3YZ2OQWAP4</td>\n",
       "      <td>B0000ARQMW</td>\n",
       "      <td>liz</td>\n",
       "      <td>[0, 0]</td>\n",
       "      <td>I really like this game i love all the challen...</td>\n",
       "      <td>5</td>\n",
       "      <td>Jammin banging game</td>\n",
       "      <td>1383436800</td>\n",
       "      <td>11 3, 2013</td>\n",
       "    </tr>\n",
       "    <tr>\n",
       "      <th>4</th>\n",
       "      <td>11616</td>\n",
       "      <td>172598</td>\n",
       "      <td>A48Z207T98FN0</td>\n",
       "      <td>B004HYK8Y8</td>\n",
       "      <td>The Reverend</td>\n",
       "      <td>[296, 368]</td>\n",
       "      <td>*** please read the 12/9/11 update below this ...</td>\n",
       "      <td>1</td>\n",
       "      <td>Consumers are NOT Beta-Testers !!! (updated)</td>\n",
       "      <td>1322784000</td>\n",
       "      <td>12 2, 2011</td>\n",
       "    </tr>\n",
       "    <tr>\n",
       "      <th>5</th>\n",
       "      <td>9852</td>\n",
       "      <td>214525</td>\n",
       "      <td>A0815906MFVDTIFHGRQR</td>\n",
       "      <td>B00ATF5YY8</td>\n",
       "      <td>Diego B.</td>\n",
       "      <td>[0, 0]</td>\n",
       "      <td>At the beginning I though, &amp;#34;Wow! this game...</td>\n",
       "      <td>3</td>\n",
       "      <td>Ok game, kinda bad story.</td>\n",
       "      <td>1374796800</td>\n",
       "      <td>07 26, 2013</td>\n",
       "    </tr>\n",
       "    <tr>\n",
       "      <th>6</th>\n",
       "      <td>11832</td>\n",
       "      <td>62284</td>\n",
       "      <td>A1OJXGNKA0QGUW</td>\n",
       "      <td>B000B6OBPS</td>\n",
       "      <td>J. Woods</td>\n",
       "      <td>[1, 2]</td>\n",
       "      <td>Honestly I think this is pretty bad, and let m...</td>\n",
       "      <td>1</td>\n",
       "      <td>Don't believe the hype..</td>\n",
       "      <td>1333670400</td>\n",
       "      <td>04 6, 2012</td>\n",
       "    </tr>\n",
       "    <tr>\n",
       "      <th>7</th>\n",
       "      <td>838</td>\n",
       "      <td>80635</td>\n",
       "      <td>A2SP52NH44LRDS</td>\n",
       "      <td>B000MUW98O</td>\n",
       "      <td>Happy r/c</td>\n",
       "      <td>[0, 3]</td>\n",
       "      <td>Try GRID racing game which I think is better.W...</td>\n",
       "      <td>2</td>\n",
       "      <td>Motorcycle doing wheelie can't flip backwards</td>\n",
       "      <td>1268956800</td>\n",
       "      <td>03 19, 2010</td>\n",
       "    </tr>\n",
       "    <tr>\n",
       "      <th>8</th>\n",
       "      <td>7485</td>\n",
       "      <td>167288</td>\n",
       "      <td>A1BBYSMT9YCODI</td>\n",
       "      <td>B0045EI7I4</td>\n",
       "      <td>korova</td>\n",
       "      <td>[60, 67]</td>\n",
       "      <td>Long time fans of Grand Theft Auto know that e...</td>\n",
       "      <td>4</td>\n",
       "      <td>Rockstar's Rashomon</td>\n",
       "      <td>1288569600</td>\n",
       "      <td>11 1, 2010</td>\n",
       "    </tr>\n",
       "    <tr>\n",
       "      <th>9</th>\n",
       "      <td>2635</td>\n",
       "      <td>207739</td>\n",
       "      <td>A2TIP4NEY64PLK</td>\n",
       "      <td>B008DNUXA8</td>\n",
       "      <td>Fun Times Mom \"Hayley\"</td>\n",
       "      <td>[7, 9]</td>\n",
       "      <td>For the few minutes that my son played he had ...</td>\n",
       "      <td>1</td>\n",
       "      <td>RENT THIS ONE!!! IT COULDN'T KEEP A 6 YEAR OLD...</td>\n",
       "      <td>1355097600</td>\n",
       "      <td>12 10, 2012</td>\n",
       "    </tr>\n",
       "  </tbody>\n",
       "</table>\n",
       "</div>"
      ],
      "text/plain": [
       "   level_0   index            reviewerID        asin            reviewerName  \\\n",
       "0     9604  222941        A1U1AK7HKB2BLN  B00CX6XKK6                  jayfer   \n",
       "1     5428  106670        A1L1D50VH2AX7J  B0017UFWMS                 Anjoyla   \n",
       "2      198   24455        A2JWU211CM0BYE  B00005RCR0                 DCN2049   \n",
       "3     6070   42574        A1DP3YZ2OQWAP4  B0000ARQMW                     liz   \n",
       "4    11616  172598         A48Z207T98FN0  B004HYK8Y8            The Reverend   \n",
       "5     9852  214525  A0815906MFVDTIFHGRQR  B00ATF5YY8                Diego B.   \n",
       "6    11832   62284        A1OJXGNKA0QGUW  B000B6OBPS                J. Woods   \n",
       "7      838   80635        A2SP52NH44LRDS  B000MUW98O               Happy r/c   \n",
       "8     7485  167288        A1BBYSMT9YCODI  B0045EI7I4                  korova   \n",
       "9     2635  207739        A2TIP4NEY64PLK  B008DNUXA8  Fun Times Mom \"Hayley\"   \n",
       "\n",
       "      helpful                                         reviewText  overall  \\\n",
       "0     [4, 51]  ive got to play this on both consoles now and ...        1   \n",
       "1      [0, 0]  This game gives you a series of word puzzles t...        2   \n",
       "2      [0, 1]  You should pretty much already know what this ...        4   \n",
       "3      [0, 0]  I really like this game i love all the challen...        5   \n",
       "4  [296, 368]  *** please read the 12/9/11 update below this ...        1   \n",
       "5      [0, 0]  At the beginning I though, &#34;Wow! this game...        3   \n",
       "6      [1, 2]  Honestly I think this is pretty bad, and let m...        1   \n",
       "7      [0, 3]  Try GRID racing game which I think is better.W...        2   \n",
       "8    [60, 67]  Long time fans of Grand Theft Auto know that e...        4   \n",
       "9      [7, 9]  For the few minutes that my son played he had ...        1   \n",
       "\n",
       "                                             summary  unixReviewTime  \\\n",
       "0                wasted 500 dollars on the xbox one.      1385078400   \n",
       "1                                 Margots Word Brain      1321833600   \n",
       "2                 Excellent product, watch the discs      1360540800   \n",
       "3                                Jammin banging game      1383436800   \n",
       "4       Consumers are NOT Beta-Testers !!! (updated)      1322784000   \n",
       "5                          Ok game, kinda bad story.      1374796800   \n",
       "6                           Don't believe the hype..      1333670400   \n",
       "7      Motorcycle doing wheelie can't flip backwards      1268956800   \n",
       "8                                Rockstar's Rashomon      1288569600   \n",
       "9  RENT THIS ONE!!! IT COULDN'T KEEP A 6 YEAR OLD...      1355097600   \n",
       "\n",
       "    reviewTime  \n",
       "0  11 22, 2013  \n",
       "1  11 21, 2011  \n",
       "2  02 11, 2013  \n",
       "3   11 3, 2013  \n",
       "4   12 2, 2011  \n",
       "5  07 26, 2013  \n",
       "6   04 6, 2012  \n",
       "7  03 19, 2010  \n",
       "8   11 1, 2010  \n",
       "9  12 10, 2012  "
      ]
     },
     "execution_count": 327,
     "metadata": {},
     "output_type": "execute_result"
    }
   ],
   "source": [
    "dfReview.head(10)"
   ]
  },
  {
   "cell_type": "code",
   "execution_count": 328,
   "metadata": {},
   "outputs": [
    {
     "name": "stdout",
     "output_type": "stream",
     "text": [
      "<class 'pandas.core.frame.DataFrame'>\n",
      "RangeIndex: 8000 entries, 0 to 7999\n",
      "Data columns (total 11 columns):\n",
      " #   Column          Non-Null Count  Dtype \n",
      "---  ------          --------------  ----- \n",
      " 0   level_0         8000 non-null   int64 \n",
      " 1   index           8000 non-null   int64 \n",
      " 2   reviewerID      8000 non-null   object\n",
      " 3   asin            8000 non-null   object\n",
      " 4   reviewerName    7916 non-null   object\n",
      " 5   helpful         8000 non-null   object\n",
      " 6   reviewText      7999 non-null   object\n",
      " 7   overall         8000 non-null   int64 \n",
      " 8   summary         8000 non-null   object\n",
      " 9   unixReviewTime  8000 non-null   int64 \n",
      " 10  reviewTime      8000 non-null   object\n",
      "dtypes: int64(4), object(7)\n",
      "memory usage: 687.6+ KB\n"
     ]
    }
   ],
   "source": [
    "dfReview.info()"
   ]
  },
  {
   "cell_type": "markdown",
   "metadata": {},
   "source": [
    "* reviewerID - ID of the reviewer, e.g. A2SUAM1J3GNN3B\n",
    "* asin - ID of the product, e.g. 0000013714\n",
    "* reviewerName - name of the reviewer\n",
    "* helpful - helpfulness rating of the review, e.g. 2/3\n",
    "* reviewText - text of the review\n",
    "* overall - rating of the product\n",
    "* summary - summary of the review\n",
    "* unixReviewTime - time of the review (unix time)\n",
    "* reviewTime - time of the review (raw)\n",
    "\n",
    "[source](https://jmcauley.ucsd.edu/data/amazon/)"
   ]
  },
  {
   "cell_type": "code",
   "execution_count": 329,
   "metadata": {},
   "outputs": [
    {
     "data": {
      "text/html": [
       "<pre style=\"white-space:pre;overflow-x:auto;line-height:normal;font-family:Menlo,'DejaVu Sans Mono',consolas,'Courier New',monospace\"><span style=\"color: #800000; text-decoration-color: #800000; font-weight: bold\">reviewText:</span>\n",
       "</pre>\n"
      ],
      "text/plain": [
       "\u001b[1;31mreviewText:\u001b[0m\n"
      ]
     },
     "metadata": {},
     "output_type": "display_data"
    },
    {
     "data": {
      "text/html": [
       "<div>\n",
       "<style scoped>\n",
       "    .dataframe tbody tr th:only-of-type {\n",
       "        vertical-align: middle;\n",
       "    }\n",
       "\n",
       "    .dataframe tbody tr th {\n",
       "        vertical-align: top;\n",
       "    }\n",
       "\n",
       "    .dataframe thead th {\n",
       "        text-align: right;\n",
       "    }\n",
       "</style>\n",
       "<table border=\"1\" class=\"dataframe\">\n",
       "  <thead>\n",
       "    <tr style=\"text-align: right;\">\n",
       "      <th></th>\n",
       "      <th>level_0</th>\n",
       "      <th>index</th>\n",
       "      <th>reviewerID</th>\n",
       "      <th>asin</th>\n",
       "      <th>reviewerName</th>\n",
       "      <th>helpful</th>\n",
       "      <th>reviewText</th>\n",
       "      <th>overall</th>\n",
       "      <th>summary</th>\n",
       "      <th>unixReviewTime</th>\n",
       "      <th>reviewTime</th>\n",
       "    </tr>\n",
       "  </thead>\n",
       "  <tbody>\n",
       "    <tr>\n",
       "      <th>2643</th>\n",
       "      <td>3929</td>\n",
       "      <td>101862</td>\n",
       "      <td>ATBR7F7455PTZ</td>\n",
       "      <td>B0013ZAM22</td>\n",
       "      <td>chris \"chris\"</td>\n",
       "      <td>[0, 5]</td>\n",
       "      <td>NaN</td>\n",
       "      <td>2</td>\n",
       "      <td>do not buy if you use an hdtrv</td>\n",
       "      <td>1230422400</td>\n",
       "      <td>12 28, 2008</td>\n",
       "    </tr>\n",
       "  </tbody>\n",
       "</table>\n",
       "</div>"
      ],
      "text/plain": [
       "      level_0   index     reviewerID        asin   reviewerName helpful  \\\n",
       "2643     3929  101862  ATBR7F7455PTZ  B0013ZAM22  chris \"chris\"  [0, 5]   \n",
       "\n",
       "     reviewText  overall                         summary  unixReviewTime  \\\n",
       "2643        NaN        2  do not buy if you use an hdtrv      1230422400   \n",
       "\n",
       "       reviewTime  \n",
       "2643  12 28, 2008  "
      ]
     },
     "metadata": {},
     "output_type": "display_data"
    },
    {
     "data": {
      "text/html": [
       "<pre style=\"white-space:pre;overflow-x:auto;line-height:normal;font-family:Menlo,'DejaVu Sans Mono',consolas,'Courier New',monospace\">\n",
       "</pre>\n"
      ],
      "text/plain": [
       "\n"
      ]
     },
     "metadata": {},
     "output_type": "display_data"
    },
    {
     "data": {
      "text/html": [
       "<pre style=\"white-space:pre;overflow-x:auto;line-height:normal;font-family:Menlo,'DejaVu Sans Mono',consolas,'Courier New',monospace\"><span style=\"color: #800000; text-decoration-color: #800000; font-weight: bold\">summary:</span>\n",
       "</pre>\n"
      ],
      "text/plain": [
       "\u001b[1;31msummary:\u001b[0m\n"
      ]
     },
     "metadata": {},
     "output_type": "display_data"
    },
    {
     "data": {
      "text/html": [
       "<div>\n",
       "<style scoped>\n",
       "    .dataframe tbody tr th:only-of-type {\n",
       "        vertical-align: middle;\n",
       "    }\n",
       "\n",
       "    .dataframe tbody tr th {\n",
       "        vertical-align: top;\n",
       "    }\n",
       "\n",
       "    .dataframe thead th {\n",
       "        text-align: right;\n",
       "    }\n",
       "</style>\n",
       "<table border=\"1\" class=\"dataframe\">\n",
       "  <thead>\n",
       "    <tr style=\"text-align: right;\">\n",
       "      <th></th>\n",
       "      <th>level_0</th>\n",
       "      <th>index</th>\n",
       "      <th>reviewerID</th>\n",
       "      <th>asin</th>\n",
       "      <th>reviewerName</th>\n",
       "      <th>helpful</th>\n",
       "      <th>reviewText</th>\n",
       "      <th>overall</th>\n",
       "      <th>summary</th>\n",
       "      <th>unixReviewTime</th>\n",
       "      <th>reviewTime</th>\n",
       "    </tr>\n",
       "  </thead>\n",
       "  <tbody>\n",
       "  </tbody>\n",
       "</table>\n",
       "</div>"
      ],
      "text/plain": [
       "Empty DataFrame\n",
       "Columns: [level_0, index, reviewerID, asin, reviewerName, helpful, reviewText, overall, summary, unixReviewTime, reviewTime]\n",
       "Index: []"
      ]
     },
     "metadata": {},
     "output_type": "display_data"
    },
    {
     "data": {
      "text/html": [
       "<pre style=\"white-space:pre;overflow-x:auto;line-height:normal;font-family:Menlo,'DejaVu Sans Mono',consolas,'Courier New',monospace\">\n",
       "</pre>\n"
      ],
      "text/plain": [
       "\n"
      ]
     },
     "metadata": {},
     "output_type": "display_data"
    },
    {
     "data": {
      "text/html": [
       "<pre style=\"white-space:pre;overflow-x:auto;line-height:normal;font-family:Menlo,'DejaVu Sans Mono',consolas,'Courier New',monospace\"><span style=\"color: #800000; text-decoration-color: #800000; font-weight: bold\">overall:</span>\n",
       "</pre>\n"
      ],
      "text/plain": [
       "\u001b[1;31moverall:\u001b[0m\n"
      ]
     },
     "metadata": {},
     "output_type": "display_data"
    },
    {
     "data": {
      "text/html": [
       "<div>\n",
       "<style scoped>\n",
       "    .dataframe tbody tr th:only-of-type {\n",
       "        vertical-align: middle;\n",
       "    }\n",
       "\n",
       "    .dataframe tbody tr th {\n",
       "        vertical-align: top;\n",
       "    }\n",
       "\n",
       "    .dataframe thead th {\n",
       "        text-align: right;\n",
       "    }\n",
       "</style>\n",
       "<table border=\"1\" class=\"dataframe\">\n",
       "  <thead>\n",
       "    <tr style=\"text-align: right;\">\n",
       "      <th></th>\n",
       "      <th>level_0</th>\n",
       "      <th>index</th>\n",
       "      <th>reviewerID</th>\n",
       "      <th>asin</th>\n",
       "      <th>reviewerName</th>\n",
       "      <th>helpful</th>\n",
       "      <th>reviewText</th>\n",
       "      <th>overall</th>\n",
       "      <th>summary</th>\n",
       "      <th>unixReviewTime</th>\n",
       "      <th>reviewTime</th>\n",
       "    </tr>\n",
       "  </thead>\n",
       "  <tbody>\n",
       "  </tbody>\n",
       "</table>\n",
       "</div>"
      ],
      "text/plain": [
       "Empty DataFrame\n",
       "Columns: [level_0, index, reviewerID, asin, reviewerName, helpful, reviewText, overall, summary, unixReviewTime, reviewTime]\n",
       "Index: []"
      ]
     },
     "metadata": {},
     "output_type": "display_data"
    }
   ],
   "source": [
    "# verificar se existem valores vazios nas colunas de interesse: reviewText, summary e overall\n",
    "print('[bold red]reviewText:[/bold red]')\n",
    "display(dfReview[dfReview['reviewText'].isna()])\n",
    "print()\n",
    "print('[bold red]summary:[/bold red]')\n",
    "display(dfReview[dfReview['summary'].isna()])\n",
    "print()\n",
    "print('[bold red]overall:[/bold red]')\n",
    "display(dfReview[dfReview['overall'].isna()])"
   ]
  },
  {
   "cell_type": "code",
   "execution_count": 330,
   "metadata": {},
   "outputs": [],
   "source": [
    "# remover valores NaN do texto\n",
    "#dfReview.dropna(axis=0, subset=['reviewText'], inplace=True)"
   ]
  },
  {
   "cell_type": "code",
   "execution_count": 331,
   "metadata": {},
   "outputs": [],
   "source": [
    "# como so ha NaN no reviewText ao unir com o summary que complementa o texto\n",
    "# nao vai mais haver NaN, portanto nao ha nescessidade de excluir a linha\n",
    "dfReview['reviewText'] = dfReview.apply(lambda x: x.summary + ' ' + x.reviewText if str(x.reviewText) != 'nan' else x.summary, axis=1)"
   ]
  },
  {
   "cell_type": "code",
   "execution_count": 332,
   "metadata": {},
   "outputs": [],
   "source": [
    "# removendo colunas desnecessarias:\n",
    "dfReview.drop(['level_0', 'index', 'unixReviewTime', 'reviewerID', \"reviewerName\", \"summary\"], axis=1, inplace=True)"
   ]
  },
  {
   "cell_type": "code",
   "execution_count": 333,
   "metadata": {},
   "outputs": [],
   "source": [
    "# convertendo reviewTime em datetime\n",
    "dfReview['reviewTime'] = pd.to_datetime(dfReview['reviewTime'], format='%m %d, %Y')"
   ]
  },
  {
   "cell_type": "code",
   "execution_count": 334,
   "metadata": {},
   "outputs": [],
   "source": [
    "# criar coluna binaria do overall 1 if nota > 3 else 0\n",
    "dfReview['overallBinary'] = dfReview['overall'].apply(lambda x: 1 if x > 3 else 0)"
   ]
  },
  {
   "cell_type": "code",
   "execution_count": 335,
   "metadata": {},
   "outputs": [
    {
     "data": {
      "text/html": [
       "<div>\n",
       "<style scoped>\n",
       "    .dataframe tbody tr th:only-of-type {\n",
       "        vertical-align: middle;\n",
       "    }\n",
       "\n",
       "    .dataframe tbody tr th {\n",
       "        vertical-align: top;\n",
       "    }\n",
       "\n",
       "    .dataframe thead th {\n",
       "        text-align: right;\n",
       "    }\n",
       "</style>\n",
       "<table border=\"1\" class=\"dataframe\">\n",
       "  <thead>\n",
       "    <tr style=\"text-align: right;\">\n",
       "      <th></th>\n",
       "      <th>asin</th>\n",
       "      <th>helpful</th>\n",
       "      <th>reviewText</th>\n",
       "      <th>overall</th>\n",
       "      <th>reviewTime</th>\n",
       "      <th>overallBinary</th>\n",
       "    </tr>\n",
       "  </thead>\n",
       "  <tbody>\n",
       "    <tr>\n",
       "      <th>0</th>\n",
       "      <td>B00CX6XKK6</td>\n",
       "      <td>[4, 51]</td>\n",
       "      <td>wasted 500 dollars on the xbox one. ive got to...</td>\n",
       "      <td>1</td>\n",
       "      <td>2013-11-22</td>\n",
       "      <td>0</td>\n",
       "    </tr>\n",
       "    <tr>\n",
       "      <th>1</th>\n",
       "      <td>B0017UFWMS</td>\n",
       "      <td>[0, 0]</td>\n",
       "      <td>Margots Word Brain This game gives you a serie...</td>\n",
       "      <td>2</td>\n",
       "      <td>2011-11-21</td>\n",
       "      <td>0</td>\n",
       "    </tr>\n",
       "    <tr>\n",
       "      <th>2</th>\n",
       "      <td>B00005RCR0</td>\n",
       "      <td>[0, 1]</td>\n",
       "      <td>Excellent product, watch the discs You should ...</td>\n",
       "      <td>4</td>\n",
       "      <td>2013-02-11</td>\n",
       "      <td>1</td>\n",
       "    </tr>\n",
       "    <tr>\n",
       "      <th>3</th>\n",
       "      <td>B0000ARQMW</td>\n",
       "      <td>[0, 0]</td>\n",
       "      <td>Jammin banging game I really like this game i ...</td>\n",
       "      <td>5</td>\n",
       "      <td>2013-11-03</td>\n",
       "      <td>1</td>\n",
       "    </tr>\n",
       "    <tr>\n",
       "      <th>4</th>\n",
       "      <td>B004HYK8Y8</td>\n",
       "      <td>[296, 368]</td>\n",
       "      <td>Consumers are NOT Beta-Testers !!! (updated) *...</td>\n",
       "      <td>1</td>\n",
       "      <td>2011-12-02</td>\n",
       "      <td>0</td>\n",
       "    </tr>\n",
       "    <tr>\n",
       "      <th>...</th>\n",
       "      <td>...</td>\n",
       "      <td>...</td>\n",
       "      <td>...</td>\n",
       "      <td>...</td>\n",
       "      <td>...</td>\n",
       "      <td>...</td>\n",
       "    </tr>\n",
       "    <tr>\n",
       "      <th>7995</th>\n",
       "      <td>B003VAM392</td>\n",
       "      <td>[0, 0]</td>\n",
       "      <td>Scrolling Arrived in mail promptly.  Working g...</td>\n",
       "      <td>3</td>\n",
       "      <td>2012-07-03</td>\n",
       "      <td>0</td>\n",
       "    </tr>\n",
       "    <tr>\n",
       "      <th>7996</th>\n",
       "      <td>B002Q21X7Y</td>\n",
       "      <td>[6, 15]</td>\n",
       "      <td>Style over substance This game is a perfect ex...</td>\n",
       "      <td>2</td>\n",
       "      <td>2010-10-20</td>\n",
       "      <td>0</td>\n",
       "    </tr>\n",
       "    <tr>\n",
       "      <th>7997</th>\n",
       "      <td>B000066TS7</td>\n",
       "      <td>[6, 6]</td>\n",
       "      <td>Exceeds Expectations Let me tell you from the ...</td>\n",
       "      <td>5</td>\n",
       "      <td>2003-10-29</td>\n",
       "      <td>1</td>\n",
       "    </tr>\n",
       "    <tr>\n",
       "      <th>7998</th>\n",
       "      <td>B005VKRGXI</td>\n",
       "      <td>[0, 0]</td>\n",
       "      <td>$23.99 - Good Deal! For $24.00 new this game d...</td>\n",
       "      <td>5</td>\n",
       "      <td>2013-08-26</td>\n",
       "      <td>1</td>\n",
       "    </tr>\n",
       "    <tr>\n",
       "      <th>7999</th>\n",
       "      <td>B002I0J4AM</td>\n",
       "      <td>[1, 1]</td>\n",
       "      <td>Star Ocean The Last Hope International Short R...</td>\n",
       "      <td>5</td>\n",
       "      <td>2012-04-26</td>\n",
       "      <td>1</td>\n",
       "    </tr>\n",
       "  </tbody>\n",
       "</table>\n",
       "<p>8000 rows × 6 columns</p>\n",
       "</div>"
      ],
      "text/plain": [
       "            asin     helpful  \\\n",
       "0     B00CX6XKK6     [4, 51]   \n",
       "1     B0017UFWMS      [0, 0]   \n",
       "2     B00005RCR0      [0, 1]   \n",
       "3     B0000ARQMW      [0, 0]   \n",
       "4     B004HYK8Y8  [296, 368]   \n",
       "...          ...         ...   \n",
       "7995  B003VAM392      [0, 0]   \n",
       "7996  B002Q21X7Y     [6, 15]   \n",
       "7997  B000066TS7      [6, 6]   \n",
       "7998  B005VKRGXI      [0, 0]   \n",
       "7999  B002I0J4AM      [1, 1]   \n",
       "\n",
       "                                             reviewText  overall reviewTime  \\\n",
       "0     wasted 500 dollars on the xbox one. ive got to...        1 2013-11-22   \n",
       "1     Margots Word Brain This game gives you a serie...        2 2011-11-21   \n",
       "2     Excellent product, watch the discs You should ...        4 2013-02-11   \n",
       "3     Jammin banging game I really like this game i ...        5 2013-11-03   \n",
       "4     Consumers are NOT Beta-Testers !!! (updated) *...        1 2011-12-02   \n",
       "...                                                 ...      ...        ...   \n",
       "7995  Scrolling Arrived in mail promptly.  Working g...        3 2012-07-03   \n",
       "7996  Style over substance This game is a perfect ex...        2 2010-10-20   \n",
       "7997  Exceeds Expectations Let me tell you from the ...        5 2003-10-29   \n",
       "7998  $23.99 - Good Deal! For $24.00 new this game d...        5 2013-08-26   \n",
       "7999  Star Ocean The Last Hope International Short R...        5 2012-04-26   \n",
       "\n",
       "      overallBinary  \n",
       "0                 0  \n",
       "1                 0  \n",
       "2                 1  \n",
       "3                 1  \n",
       "4                 0  \n",
       "...             ...  \n",
       "7995              0  \n",
       "7996              0  \n",
       "7997              1  \n",
       "7998              1  \n",
       "7999              1  \n",
       "\n",
       "[8000 rows x 6 columns]"
      ]
     },
     "execution_count": 335,
     "metadata": {},
     "output_type": "execute_result"
    }
   ],
   "source": [
    "dfReview"
   ]
  },
  {
   "cell_type": "markdown",
   "metadata": {},
   "source": [
    "### Remocao de stopwords e pontuacao"
   ]
  },
  {
   "cell_type": "code",
   "execution_count": 336,
   "metadata": {},
   "outputs": [],
   "source": [
    "def tratamento_basico(texto,\n",
    "                      pontuacao = re.compile('|'.join(map(re.escape, string.punctuation))),\n",
    "                      stpwrds = stopwords.words('english')):\n",
    "    \"\"\"tratamento basico do texto com remocao de pontucao e e stopwords\n",
    "    \n",
    "    input:\n",
    "         - texto: (str) -> menssagem a ser processada\n",
    "         - pontuacao (re.Pattern) -> caracteres de pontuacao a serem removidos\n",
    "                                     compilados em uma regex\n",
    "                                     default: providos pelo string.punctuation\n",
    "                                              usando o re.compile('|'.join(map(re.escape, string.punctuation)))\n",
    "         - stpwrds (list)  -> lista de stopwords\n",
    "                              default: providos pela funcao stopwords.words('english') da lib nltk.corpus\n",
    "    output:\n",
    "         (str) ->  menssagem pre-processada em caixa baixa\n",
    "    \"\"\"\n",
    "    \n",
    "    # Caixa baixa\n",
    "    texto = texto.lower()\n",
    "    \n",
    "    # para pontucao so usar o metodo sub da regex de entrada\n",
    "    texto = pontuacao.sub(\"\", texto)\n",
    "    \n",
    "    # para as stopwords fazer por compreensao de lista, juntando chars em\n",
    "    # palavras para nao remover as sopwords que estejam dentro de uma outra palavra\n",
    "    # e usar os texto em caixa baixa para dar match\n",
    "    texto = [palavra for palavra in texto.split() if palavra not in stpwrds]\n",
    "    \n",
    "    # Retorna vetor pra um texto\n",
    "    texto = \" \".join(texto)\n",
    "    \n",
    "    return texto"
   ]
  },
  {
   "cell_type": "code",
   "execution_count": 337,
   "metadata": {},
   "outputs": [
    {
     "data": {
      "text/html": [
       "<pre style=\"white-space:pre;overflow-x:auto;line-height:normal;font-family:Menlo,'DejaVu Sans Mono',consolas,'Courier New',monospace\"><span style=\"color: #800000; text-decoration-color: #800000; font-weight: bold\">antes do tratamento_basico():</span>\n",
       "</pre>\n"
      ],
      "text/plain": [
       "\u001b[1;31mantes do tratamento_basico\u001b[0m\u001b[1;31m(\u001b[0m\u001b[1;31m)\u001b[0m\u001b[1;31m:\u001b[0m\n"
      ]
     },
     "metadata": {},
     "output_type": "display_data"
    },
    {
     "data": {
      "text/html": [
       "<pre style=\"white-space:pre;overflow-x:auto;line-height:normal;font-family:Menlo,'DejaVu Sans Mono',consolas,'Courier New',monospace\">\n",
       "</pre>\n"
      ],
      "text/plain": [
       "\n"
      ]
     },
     "metadata": {},
     "output_type": "display_data"
    },
    {
     "data": {
      "text/plain": [
       "0    wasted 500 dollars on the xbox one. ive got to...\n",
       "1    Margots Word Brain This game gives you a serie...\n",
       "2    Excellent product, watch the discs You should ...\n",
       "3    Jammin banging game I really like this game i ...\n",
       "4    Consumers are NOT Beta-Testers !!! (updated) *...\n",
       "5    Ok game, kinda bad story. At the beginning I t...\n",
       "6    Don't believe the hype.. Honestly I think this...\n",
       "7    Motorcycle doing wheelie can't flip backwards ...\n",
       "8    Rockstar's Rashomon Long time fans of Grand Th...\n",
       "9    RENT THIS ONE!!! IT COULDN'T KEEP A 6 YEAR OLD...\n",
       "Name: reviewText, dtype: object"
      ]
     },
     "execution_count": 337,
     "metadata": {},
     "output_type": "execute_result"
    }
   ],
   "source": [
    "print('[bold red]antes do tratamento_basico():[/bold red]')\n",
    "print()\n",
    "dfReview['reviewText'].head(10)"
   ]
  },
  {
   "cell_type": "code",
   "execution_count": 338,
   "metadata": {},
   "outputs": [
    {
     "data": {
      "text/html": [
       "<pre style=\"white-space:pre;overflow-x:auto;line-height:normal;font-family:Menlo,'DejaVu Sans Mono',consolas,'Courier New',monospace\"><span style=\"color: #800000; text-decoration-color: #800000; font-weight: bold\">depois do tratamento_basico():</span>\n",
       "</pre>\n"
      ],
      "text/plain": [
       "\u001b[1;31mdepois do tratamento_basico\u001b[0m\u001b[1;31m(\u001b[0m\u001b[1;31m)\u001b[0m\u001b[1;31m:\u001b[0m\n"
      ]
     },
     "metadata": {},
     "output_type": "display_data"
    },
    {
     "data": {
      "text/html": [
       "<pre style=\"white-space:pre;overflow-x:auto;line-height:normal;font-family:Menlo,'DejaVu Sans Mono',consolas,'Courier New',monospace\">\n",
       "</pre>\n"
      ],
      "text/plain": [
       "\n"
      ]
     },
     "metadata": {},
     "output_type": "display_data"
    },
    {
     "data": {
      "text/plain": [
       "0    wasted dollars xbox one ive got play consoles ...\n",
       "1    margots word brain gives series word puzzles f...\n",
       "2    excellent product watch discs pretty much alre...\n",
       "3    jammin banging really like love challenges lov...\n",
       "4    consumers betatesters updated please read upda...\n",
       "5    ok kinda bad story beginning though wow looks ...\n",
       "6    dont believe hype honestly think pretty bad le...\n",
       "7    motorcycle wheelie cant flip backwards try gri...\n",
       "8    rockstars rashomon long time fans grand theft ...\n",
       "9    rent one couldnt keep year olds attention minu...\n",
       "Name: reviewText_prep, dtype: object"
      ]
     },
     "execution_count": 338,
     "metadata": {},
     "output_type": "execute_result"
    }
   ],
   "source": [
    "print('[bold red]depois do tratamento_basico():[/bold red]')\n",
    "print()\n",
    "\n",
    "# remover os numeros tambem\n",
    "# incluir a apalvra game nos stopwords\n",
    "StopWords = stopwords.words('english')\n",
    "StopWords.append('game')\n",
    "StopWords.append('games')\n",
    "dfReview['reviewText_prep'] = dfReview['reviewText'].apply(lambda x:(tratamento_basico(x, \n",
    "                                                                                       pontuacao=re.compile('|'.join(map(re.escape, string.punctuation+'1234567890'))),\n",
    "                                                                                       stpwrds=StopWords)))\n",
    "dfReview['reviewText_prep'].head(10)"
   ]
  },
  {
   "cell_type": "code",
   "execution_count": 339,
   "metadata": {},
   "outputs": [],
   "source": [
    "# adiciona coluna com quantidade de palavras\n",
    "dfReview['len_review_words'] = dfReview['reviewText_prep'].apply(lambda x:len(x.split()))"
   ]
  },
  {
   "cell_type": "code",
   "execution_count": 340,
   "metadata": {},
   "outputs": [
    {
     "data": {
      "text/html": [
       "<div>\n",
       "<style scoped>\n",
       "    .dataframe tbody tr th:only-of-type {\n",
       "        vertical-align: middle;\n",
       "    }\n",
       "\n",
       "    .dataframe tbody tr th {\n",
       "        vertical-align: top;\n",
       "    }\n",
       "\n",
       "    .dataframe thead th {\n",
       "        text-align: right;\n",
       "    }\n",
       "</style>\n",
       "<table border=\"1\" class=\"dataframe\">\n",
       "  <thead>\n",
       "    <tr style=\"text-align: right;\">\n",
       "      <th></th>\n",
       "      <th>asin</th>\n",
       "      <th>helpful</th>\n",
       "      <th>reviewText</th>\n",
       "      <th>overall</th>\n",
       "      <th>reviewTime</th>\n",
       "      <th>overallBinary</th>\n",
       "      <th>reviewText_prep</th>\n",
       "      <th>len_review_words</th>\n",
       "    </tr>\n",
       "  </thead>\n",
       "  <tbody>\n",
       "    <tr>\n",
       "      <th>0</th>\n",
       "      <td>B00CX6XKK6</td>\n",
       "      <td>[4, 51]</td>\n",
       "      <td>wasted 500 dollars on the xbox one. ive got to...</td>\n",
       "      <td>1</td>\n",
       "      <td>2013-11-22</td>\n",
       "      <td>0</td>\n",
       "      <td>wasted dollars xbox one ive got play consoles ...</td>\n",
       "      <td>20</td>\n",
       "    </tr>\n",
       "    <tr>\n",
       "      <th>1</th>\n",
       "      <td>B0017UFWMS</td>\n",
       "      <td>[0, 0]</td>\n",
       "      <td>Margots Word Brain This game gives you a serie...</td>\n",
       "      <td>2</td>\n",
       "      <td>2011-11-21</td>\n",
       "      <td>0</td>\n",
       "      <td>margots word brain gives series word puzzles f...</td>\n",
       "      <td>21</td>\n",
       "    </tr>\n",
       "    <tr>\n",
       "      <th>2</th>\n",
       "      <td>B00005RCR0</td>\n",
       "      <td>[0, 1]</td>\n",
       "      <td>Excellent product, watch the discs You should ...</td>\n",
       "      <td>4</td>\n",
       "      <td>2013-02-11</td>\n",
       "      <td>1</td>\n",
       "      <td>excellent product watch discs pretty much alre...</td>\n",
       "      <td>22</td>\n",
       "    </tr>\n",
       "    <tr>\n",
       "      <th>3</th>\n",
       "      <td>B0000ARQMW</td>\n",
       "      <td>[0, 0]</td>\n",
       "      <td>Jammin banging game I really like this game i ...</td>\n",
       "      <td>5</td>\n",
       "      <td>2013-11-03</td>\n",
       "      <td>1</td>\n",
       "      <td>jammin banging really like love challenges lov...</td>\n",
       "      <td>15</td>\n",
       "    </tr>\n",
       "    <tr>\n",
       "      <th>4</th>\n",
       "      <td>B004HYK8Y8</td>\n",
       "      <td>[296, 368]</td>\n",
       "      <td>Consumers are NOT Beta-Testers !!! (updated) *...</td>\n",
       "      <td>1</td>\n",
       "      <td>2011-12-02</td>\n",
       "      <td>0</td>\n",
       "      <td>consumers betatesters updated please read upda...</td>\n",
       "      <td>517</td>\n",
       "    </tr>\n",
       "    <tr>\n",
       "      <th>...</th>\n",
       "      <td>...</td>\n",
       "      <td>...</td>\n",
       "      <td>...</td>\n",
       "      <td>...</td>\n",
       "      <td>...</td>\n",
       "      <td>...</td>\n",
       "      <td>...</td>\n",
       "      <td>...</td>\n",
       "    </tr>\n",
       "    <tr>\n",
       "      <th>7995</th>\n",
       "      <td>B003VAM392</td>\n",
       "      <td>[0, 0]</td>\n",
       "      <td>Scrolling Arrived in mail promptly.  Working g...</td>\n",
       "      <td>3</td>\n",
       "      <td>2012-07-03</td>\n",
       "      <td>0</td>\n",
       "      <td>scrolling arrived mail promptly working great ...</td>\n",
       "      <td>68</td>\n",
       "    </tr>\n",
       "    <tr>\n",
       "      <th>7996</th>\n",
       "      <td>B002Q21X7Y</td>\n",
       "      <td>[6, 15]</td>\n",
       "      <td>Style over substance This game is a perfect ex...</td>\n",
       "      <td>2</td>\n",
       "      <td>2010-10-20</td>\n",
       "      <td>0</td>\n",
       "      <td>style substance perfect example style substanc...</td>\n",
       "      <td>201</td>\n",
       "    </tr>\n",
       "    <tr>\n",
       "      <th>7997</th>\n",
       "      <td>B000066TS7</td>\n",
       "      <td>[6, 6]</td>\n",
       "      <td>Exceeds Expectations Let me tell you from the ...</td>\n",
       "      <td>5</td>\n",
       "      <td>2003-10-29</td>\n",
       "      <td>1</td>\n",
       "      <td>exceeds expectations let tell start im big yug...</td>\n",
       "      <td>271</td>\n",
       "    </tr>\n",
       "    <tr>\n",
       "      <th>7998</th>\n",
       "      <td>B005VKRGXI</td>\n",
       "      <td>[0, 0]</td>\n",
       "      <td>$23.99 - Good Deal! For $24.00 new this game d...</td>\n",
       "      <td>5</td>\n",
       "      <td>2013-08-26</td>\n",
       "      <td>1</td>\n",
       "      <td>good deal new delivers bought solely web swing...</td>\n",
       "      <td>177</td>\n",
       "    </tr>\n",
       "    <tr>\n",
       "      <th>7999</th>\n",
       "      <td>B002I0J4AM</td>\n",
       "      <td>[1, 1]</td>\n",
       "      <td>Star Ocean The Last Hope International Short R...</td>\n",
       "      <td>5</td>\n",
       "      <td>2012-04-26</td>\n",
       "      <td>1</td>\n",
       "      <td>star ocean last hope international short revie...</td>\n",
       "      <td>98</td>\n",
       "    </tr>\n",
       "  </tbody>\n",
       "</table>\n",
       "<p>8000 rows × 8 columns</p>\n",
       "</div>"
      ],
      "text/plain": [
       "            asin     helpful  \\\n",
       "0     B00CX6XKK6     [4, 51]   \n",
       "1     B0017UFWMS      [0, 0]   \n",
       "2     B00005RCR0      [0, 1]   \n",
       "3     B0000ARQMW      [0, 0]   \n",
       "4     B004HYK8Y8  [296, 368]   \n",
       "...          ...         ...   \n",
       "7995  B003VAM392      [0, 0]   \n",
       "7996  B002Q21X7Y     [6, 15]   \n",
       "7997  B000066TS7      [6, 6]   \n",
       "7998  B005VKRGXI      [0, 0]   \n",
       "7999  B002I0J4AM      [1, 1]   \n",
       "\n",
       "                                             reviewText  overall reviewTime  \\\n",
       "0     wasted 500 dollars on the xbox one. ive got to...        1 2013-11-22   \n",
       "1     Margots Word Brain This game gives you a serie...        2 2011-11-21   \n",
       "2     Excellent product, watch the discs You should ...        4 2013-02-11   \n",
       "3     Jammin banging game I really like this game i ...        5 2013-11-03   \n",
       "4     Consumers are NOT Beta-Testers !!! (updated) *...        1 2011-12-02   \n",
       "...                                                 ...      ...        ...   \n",
       "7995  Scrolling Arrived in mail promptly.  Working g...        3 2012-07-03   \n",
       "7996  Style over substance This game is a perfect ex...        2 2010-10-20   \n",
       "7997  Exceeds Expectations Let me tell you from the ...        5 2003-10-29   \n",
       "7998  $23.99 - Good Deal! For $24.00 new this game d...        5 2013-08-26   \n",
       "7999  Star Ocean The Last Hope International Short R...        5 2012-04-26   \n",
       "\n",
       "      overallBinary                                    reviewText_prep  \\\n",
       "0                 0  wasted dollars xbox one ive got play consoles ...   \n",
       "1                 0  margots word brain gives series word puzzles f...   \n",
       "2                 1  excellent product watch discs pretty much alre...   \n",
       "3                 1  jammin banging really like love challenges lov...   \n",
       "4                 0  consumers betatesters updated please read upda...   \n",
       "...             ...                                                ...   \n",
       "7995              0  scrolling arrived mail promptly working great ...   \n",
       "7996              0  style substance perfect example style substanc...   \n",
       "7997              1  exceeds expectations let tell start im big yug...   \n",
       "7998              1  good deal new delivers bought solely web swing...   \n",
       "7999              1  star ocean last hope international short revie...   \n",
       "\n",
       "      len_review_words  \n",
       "0                   20  \n",
       "1                   21  \n",
       "2                   22  \n",
       "3                   15  \n",
       "4                  517  \n",
       "...                ...  \n",
       "7995                68  \n",
       "7996               201  \n",
       "7997               271  \n",
       "7998               177  \n",
       "7999                98  \n",
       "\n",
       "[8000 rows x 8 columns]"
      ]
     },
     "execution_count": 340,
     "metadata": {},
     "output_type": "execute_result"
    }
   ],
   "source": [
    "dfReview"
   ]
  },
  {
   "cell_type": "code",
   "execution_count": 341,
   "metadata": {},
   "outputs": [
    {
     "data": {
      "image/png": "[encoded data removed]",
      "text/plain": [
       "<Figure size 2160x720 with 2 Axes>"
      ]
     },
     "metadata": {},
     "output_type": "display_data"
    }
   ],
   "source": [
    "#plt.figure(figsize=(20,9))\n",
    "#gs = gridspec.GridSpec(2, 1)\n",
    "\n",
    "#ax0 = plt.subplot(gs[0:1])\n",
    "#ax1 = plt.subplot(gs[1:])\n",
    "\n",
    "#p = dfReview['len_review_words'].plot(kind='box', ax=ax0, vert=False, )\n",
    "fig, ax = plt.subplots(1, 2, figsize=(30, 10))\n",
    "p = dfReview['len_review_words'].plot(kind='hist', bins=150, ax=ax[0], alpha=.8, color='c', label='words')\n",
    "p = sns.boxplot(data=dfReview, x='overall', y='len_review_words', palette='pastel', ax=ax[1])"
   ]
  },
  {
   "cell_type": "markdown",
   "metadata": {},
   "source": [
    "### Lemmatização"
   ]
  },
  {
   "cell_type": "code",
   "execution_count": 342,
   "metadata": {},
   "outputs": [],
   "source": [
    "lemmantizador = nltk.WordNetLemmatizer()\n",
    "def lemmanizacao(texto):\n",
    "    \"\"\"retorna texto lemmantizado\n",
    "    \n",
    "    entrada:\n",
    "        - texto(str): string a ser lemmantizada\n",
    "    saida:\n",
    "        - (str): texto de entrada lemmantizado\n",
    "    \"\"\"\n",
    "    \n",
    "    tokentxt =  [lemmantizador.lemmatize(palavra) for palavra in texto.split()]\n",
    "    \n",
    "    return ' '.join(tokentxt)"
   ]
  },
  {
   "cell_type": "code",
   "execution_count": 343,
   "metadata": {},
   "outputs": [],
   "source": [
    "dfReview['reviewText_prep'] =  dfReview['reviewText_prep'].apply(lambda x:lemmanizacao(x))"
   ]
  },
  {
   "cell_type": "code",
   "execution_count": 344,
   "metadata": {},
   "outputs": [
    {
     "data": {
      "text/plain": [
       "0       wasted dollar xbox one ive got play console ho...\n",
       "1       margots word brain give series word puzzle fig...\n",
       "2       excellent product watch disc pretty much alrea...\n",
       "3       jammin banging really like love challenge love...\n",
       "4       consumer betatesters updated please read updat...\n",
       "                              ...                        \n",
       "7995    scrolling arrived mail promptly working great ...\n",
       "7996    style substance perfect example style substanc...\n",
       "7997    exceeds expectation let tell start im big yugi...\n",
       "7998    good deal new delivers bought solely web swing...\n",
       "7999    star ocean last hope international short revie...\n",
       "Name: reviewText_prep, Length: 8000, dtype: object"
      ]
     },
     "execution_count": 344,
     "metadata": {},
     "output_type": "execute_result"
    }
   ],
   "source": [
    "dfReview['reviewText_prep']"
   ]
  },
  {
   "cell_type": "code",
   "execution_count": 345,
   "metadata": {},
   "outputs": [],
   "source": [
    "ret, mask = cv.threshold(cv.imread('controller.png'),\n",
    "                         55,\n",
    "                         255,\n",
    "                         cv.THRESH_BINARY)"
   ]
  },
  {
   "cell_type": "code",
   "execution_count": 346,
   "metadata": {},
   "outputs": [],
   "source": [
    "#plt.imshow(mask)\n",
    "#plt.axis(\"off\")"
   ]
  },
  {
   "cell_type": "code",
   "execution_count": 347,
   "metadata": {},
   "outputs": [
    {
     "data": {
      "image/png": "[encoded data removed]",
      "text/plain": [
       "<Figure size 1080x720 with 1 Axes>"
      ]
     },
     "metadata": {},
     "output_type": "display_data"
    }
   ],
   "source": [
    "text = ' '.join(list(dfReview['reviewText_prep']))\n",
    "\n",
    "wordcloud = WordCloud(background_color=\"white\",\n",
    "                      width=500, height=500,\n",
    "                      mask=mask, \n",
    "                      font_path='Gamer.ttf',\n",
    "                      colormap=\"cubehelix\",).generate(text)\n",
    "\n",
    "plt.figure(figsize=(15,10))\n",
    "p = plt.imshow(wordcloud, interpolation='bilinear')\n",
    "p = plt.axis(\"off\")"
   ]
  },
  {
   "cell_type": "code",
   "execution_count": 348,
   "metadata": {},
   "outputs": [
    {
     "name": "stderr",
     "output_type": "stream",
     "text": [
      "/home/lhnds/anaconda3/lib/python3.8/site-packages/seaborn/_decorators.py:36: FutureWarning: Pass the following variables as keyword args: x, y. From version 0.12, the only valid positional argument will be `data`, and passing other arguments without an explicit keyword will result in an error or misinterpretation.\n",
      "  warnings.warn(\n"
     ]
    },
    {
     "data": {
      "image/png": "[encoded data removed]",
      "text/plain": [
       "<Figure size 360x360 with 1 Axes>"
      ]
     },
     "metadata": {},
     "output_type": "display_data"
    }
   ],
   "source": [
    "x = dfReview.groupby('reviewTime').count().index\n",
    "y = dfReview.groupby('reviewTime').count()['reviewText_prep']\n",
    "p = sns.relplot(x, y, kind='line')"
   ]
  },
  {
   "cell_type": "code",
   "execution_count": 349,
   "metadata": {},
   "outputs": [
    {
     "data": {
      "image/png": "[encoded data removed]",
      "text/plain": [
       "<Figure size 2160x720 with 1 Axes>"
      ]
     },
     "metadata": {},
     "output_type": "display_data"
    },
    {
     "data": {
      "text/plain": [
       "<AxesSubplot:xlabel='Samples', ylabel='Counts'>"
      ]
     },
     "execution_count": 349,
     "metadata": {},
     "output_type": "execute_result"
    }
   ],
   "source": [
    "freq = FreqDist(text.split())\n",
    "plt.figure(figsize=(30,10))\n",
    "freq.plot(30,)"
   ]
  },
  {
   "cell_type": "markdown",
   "metadata": {},
   "source": [
    "## Modelagem"
   ]
  },
  {
   "cell_type": "code",
   "execution_count": 350,
   "metadata": {},
   "outputs": [],
   "source": [
    "from sklearn.metrics import accuracy_score, confusion_matrix, f1_score, roc_auc_score\n",
    "\n",
    "def mostra_metricas(y_true, y_pred):\n",
    "  ''' Função que recebe o y real, o y predito e mostra as\n",
    "      principais metricas.\n",
    "  '''\n",
    "  print(\"Acurácia: \", accuracy_score(y_true, y_pred))\n",
    "  print(\"\\nAUROC:\", roc_auc_score(y_true, y_pred))\n",
    "  print(\"\\nF1-Score:\", f1_score(y_true, y_pred, average='weighted'))\n",
    "  print(\"\\nMatriz de confusão:\")\n",
    "  sns.heatmap(confusion_matrix(y_true, y_pred), annot=True)\n",
    "  plt.show()"
   ]
  },
  {
   "cell_type": "markdown",
   "metadata": {},
   "source": [
    "### TF-IDF"
   ]
  },
  {
   "cell_type": "code",
   "execution_count": 372,
   "metadata": {},
   "outputs": [],
   "source": [
    "tfidf_vect = TfidfVectorizer(max_features=5000)\n",
    "X_tfidf = tfidf_vect.fit_transform(dfReview['reviewText_prep'])"
   ]
  },
  {
   "cell_type": "code",
   "execution_count": 373,
   "metadata": {},
   "outputs": [
    {
     "data": {
      "text/html": [
       "<pre style=\"white-space:pre;overflow-x:auto;line-height:normal;font-family:Menlo,'DejaVu Sans Mono',consolas,'Courier New',monospace\">  <span style=\"font-weight: bold\">(</span><span style=\"color: #008080; text-decoration-color: #008080; font-weight: bold\">0</span>, <span style=\"color: #008080; text-decoration-color: #008080; font-weight: bold\">2362</span><span style=\"font-weight: bold\">)</span>     <span style=\"color: #008080; text-decoration-color: #008080; font-weight: bold\">0.28510978103416845</span>\n",
       "  <span style=\"font-weight: bold\">(</span><span style=\"color: #008080; text-decoration-color: #008080; font-weight: bold\">0</span>, <span style=\"color: #008080; text-decoration-color: #008080; font-weight: bold\">2710</span><span style=\"font-weight: bold\">)</span>     <span style=\"color: #008080; text-decoration-color: #008080; font-weight: bold\">0.39014830600773676</span>\n",
       "  <span style=\"font-weight: bold\">(</span><span style=\"color: #008080; text-decoration-color: #008080; font-weight: bold\">0</span>, <span style=\"color: #008080; text-decoration-color: #008080; font-weight: bold\">2665</span><span style=\"font-weight: bold\">)</span>     <span style=\"color: #008080; text-decoration-color: #008080; font-weight: bold\">0.22375693851448133</span>\n",
       "  <span style=\"font-weight: bold\">(</span><span style=\"color: #008080; text-decoration-color: #008080; font-weight: bold\">0</span>, <span style=\"color: #008080; text-decoration-color: #008080; font-weight: bold\">406</span><span style=\"font-weight: bold\">)</span>      <span style=\"color: #008080; text-decoration-color: #008080; font-weight: bold\">0.15161913601846758</span>\n",
       "  <span style=\"font-weight: bold\">(</span><span style=\"color: #008080; text-decoration-color: #008080; font-weight: bold\">0</span>, <span style=\"color: #008080; text-decoration-color: #008080; font-weight: bold\">2547</span><span style=\"font-weight: bold\">)</span>     <span style=\"color: #008080; text-decoration-color: #008080; font-weight: bold\">0.16500577764486943</span>\n",
       "  <span style=\"font-weight: bold\">(</span><span style=\"color: #008080; text-decoration-color: #008080; font-weight: bold\">0</span>, <span style=\"color: #008080; text-decoration-color: #008080; font-weight: bold\">3782</span><span style=\"font-weight: bold\">)</span>     <span style=\"color: #008080; text-decoration-color: #008080; font-weight: bold\">0.16854459016161133</span>\n",
       "  <span style=\"font-weight: bold\">(</span><span style=\"color: #008080; text-decoration-color: #008080; font-weight: bold\">0</span>, <span style=\"color: #008080; text-decoration-color: #008080; font-weight: bold\">2080</span><span style=\"font-weight: bold\">)</span>     <span style=\"color: #008080; text-decoration-color: #008080; font-weight: bold\">0.28197278612779514</span>\n",
       "  <span style=\"font-weight: bold\">(</span><span style=\"color: #008080; text-decoration-color: #008080; font-weight: bold\">0</span>, <span style=\"color: #008080; text-decoration-color: #008080; font-weight: bold\">867</span><span style=\"font-weight: bold\">)</span>      <span style=\"color: #008080; text-decoration-color: #008080; font-weight: bold\">0.2308324290210661</span>\n",
       "  <span style=\"font-weight: bold\">(</span><span style=\"color: #008080; text-decoration-color: #008080; font-weight: bold\">0</span>, <span style=\"color: #008080; text-decoration-color: #008080; font-weight: bold\">3210</span><span style=\"font-weight: bold\">)</span>     <span style=\"color: #008080; text-decoration-color: #008080; font-weight: bold\">0.1176932074786112</span>\n",
       "  <span style=\"font-weight: bold\">(</span><span style=\"color: #008080; text-decoration-color: #008080; font-weight: bold\">0</span>, <span style=\"color: #008080; text-decoration-color: #008080; font-weight: bold\">1881</span><span style=\"font-weight: bold\">)</span>     <span style=\"color: #008080; text-decoration-color: #008080; font-weight: bold\">0.17253345715089757</span>\n",
       "  <span style=\"font-weight: bold\">(</span><span style=\"color: #008080; text-decoration-color: #008080; font-weight: bold\">0</span>, <span style=\"color: #008080; text-decoration-color: #008080; font-weight: bold\">2310</span><span style=\"font-weight: bold\">)</span>     <span style=\"color: #008080; text-decoration-color: #008080; font-weight: bold\">0.1856962955951335</span>\n",
       "  <span style=\"font-weight: bold\">(</span><span style=\"color: #008080; text-decoration-color: #008080; font-weight: bold\">0</span>, <span style=\"color: #008080; text-decoration-color: #008080; font-weight: bold\">2990</span><span style=\"font-weight: bold\">)</span>     <span style=\"color: #008080; text-decoration-color: #008080; font-weight: bold\">0.22675731049451012</span>\n",
       "  <span style=\"font-weight: bold\">(</span><span style=\"color: #008080; text-decoration-color: #008080; font-weight: bold\">0</span>, <span style=\"color: #008080; text-decoration-color: #008080; font-weight: bold\">4957</span><span style=\"font-weight: bold\">)</span>     <span style=\"color: #008080; text-decoration-color: #008080; font-weight: bold\">0.42673668334525566</span>\n",
       "  <span style=\"font-weight: bold\">(</span><span style=\"color: #008080; text-decoration-color: #008080; font-weight: bold\">0</span>, <span style=\"color: #008080; text-decoration-color: #008080; font-weight: bold\">1229</span><span style=\"font-weight: bold\">)</span>     <span style=\"color: #008080; text-decoration-color: #008080; font-weight: bold\">0.29125923259380826</span>\n",
       "  <span style=\"font-weight: bold\">(</span><span style=\"color: #008080; text-decoration-color: #008080; font-weight: bold\">0</span>, <span style=\"color: #008080; text-decoration-color: #008080; font-weight: bold\">4825</span><span style=\"font-weight: bold\">)</span>     <span style=\"color: #008080; text-decoration-color: #008080; font-weight: bold\">0.32948007487109954</span>\n",
       "  <span style=\"font-weight: bold\">(</span><span style=\"color: #008080; text-decoration-color: #008080; font-weight: bold\">1</span>, <span style=\"color: #008080; text-decoration-color: #008080; font-weight: bold\">1753</span><span style=\"font-weight: bold\">)</span>     <span style=\"color: #008080; text-decoration-color: #008080; font-weight: bold\">0.10889666072443233</span>\n",
       "  <span style=\"font-weight: bold\">(</span><span style=\"color: #008080; text-decoration-color: #008080; font-weight: bold\">1</span>, <span style=\"color: #008080; text-decoration-color: #008080; font-weight: bold\">3215</span><span style=\"font-weight: bold\">)</span>     <span style=\"color: #008080; text-decoration-color: #008080; font-weight: bold\">0.12648245018966606</span>\n",
       "  <span style=\"font-weight: bold\">(</span><span style=\"color: #008080; text-decoration-color: #008080; font-weight: bold\">1</span>, <span style=\"color: #008080; text-decoration-color: #008080; font-weight: bold\">786</span><span style=\"font-weight: bold\">)</span>      <span style=\"color: #008080; text-decoration-color: #008080; font-weight: bold\">0.15108221643471081</span>\n",
       "  <span style=\"font-weight: bold\">(</span><span style=\"color: #008080; text-decoration-color: #008080; font-weight: bold\">1</span>, <span style=\"color: #008080; text-decoration-color: #008080; font-weight: bold\">460</span><span style=\"font-weight: bold\">)</span>      <span style=\"color: #008080; text-decoration-color: #008080; font-weight: bold\">0.3218600711019063</span>\n",
       "  <span style=\"font-weight: bold\">(</span><span style=\"color: #008080; text-decoration-color: #008080; font-weight: bold\">1</span>, <span style=\"color: #008080; text-decoration-color: #008080; font-weight: bold\">2755</span><span style=\"font-weight: bold\">)</span>     <span style=\"color: #008080; text-decoration-color: #008080; font-weight: bold\">0.23794365370676562</span>\n",
       "  <span style=\"font-weight: bold\">(</span><span style=\"color: #008080; text-decoration-color: #008080; font-weight: bold\">1</span>, <span style=\"color: #008080; text-decoration-color: #008080; font-weight: bold\">3970</span><span style=\"font-weight: bold\">)</span>     <span style=\"color: #008080; text-decoration-color: #008080; font-weight: bold\">0.19320255713795778</span>\n",
       "  <span style=\"font-weight: bold\">(</span><span style=\"color: #008080; text-decoration-color: #008080; font-weight: bold\">1</span>, <span style=\"color: #008080; text-decoration-color: #008080; font-weight: bold\">2960</span><span style=\"font-weight: bold\">)</span>     <span style=\"color: #008080; text-decoration-color: #008080; font-weight: bold\">0.3046381309500056</span>\n",
       "  <span style=\"font-weight: bold\">(</span><span style=\"color: #008080; text-decoration-color: #008080; font-weight: bold\">1</span>, <span style=\"color: #008080; text-decoration-color: #008080; font-weight: bold\">1617</span><span style=\"font-weight: bold\">)</span>     <span style=\"color: #008080; text-decoration-color: #008080; font-weight: bold\">0.210456999720373</span>\n",
       "  <span style=\"font-weight: bold\">(</span><span style=\"color: #008080; text-decoration-color: #008080; font-weight: bold\">1</span>, <span style=\"color: #008080; text-decoration-color: #008080; font-weight: bold\">813</span><span style=\"font-weight: bold\">)</span>      <span style=\"color: #008080; text-decoration-color: #008080; font-weight: bold\">0.30820472530881105</span>\n",
       "  <span style=\"font-weight: bold\">(</span><span style=\"color: #008080; text-decoration-color: #008080; font-weight: bold\">1</span>, <span style=\"color: #008080; text-decoration-color: #008080; font-weight: bold\">590</span><span style=\"font-weight: bold\">)</span>      <span style=\"color: #008080; text-decoration-color: #008080; font-weight: bold\">0.14567537333806485</span>\n",
       "  :     :\n",
       "  <span style=\"font-weight: bold\">(</span><span style=\"color: #008080; text-decoration-color: #008080; font-weight: bold\">7999</span>, <span style=\"color: #008080; text-decoration-color: #008080; font-weight: bold\">4854</span><span style=\"font-weight: bold\">)</span>  <span style=\"color: #008080; text-decoration-color: #008080; font-weight: bold\">0.05458097648689486</span>\n",
       "  <span style=\"font-weight: bold\">(</span><span style=\"color: #008080; text-decoration-color: #008080; font-weight: bold\">7999</span>, <span style=\"color: #008080; text-decoration-color: #008080; font-weight: bold\">1859</span><span style=\"font-weight: bold\">)</span>  <span style=\"color: #008080; text-decoration-color: #008080; font-weight: bold\">0.05672429945850727</span>\n",
       "  <span style=\"font-weight: bold\">(</span><span style=\"color: #008080; text-decoration-color: #008080; font-weight: bold\">7999</span>, <span style=\"color: #008080; text-decoration-color: #008080; font-weight: bold\">2561</span><span style=\"font-weight: bold\">)</span>  <span style=\"color: #008080; text-decoration-color: #008080; font-weight: bold\">0.058262246824933576</span>\n",
       "  <span style=\"font-weight: bold\">(</span><span style=\"color: #008080; text-decoration-color: #008080; font-weight: bold\">7999</span>, <span style=\"color: #008080; text-decoration-color: #008080; font-weight: bold\">2087</span><span style=\"font-weight: bold\">)</span>  <span style=\"color: #008080; text-decoration-color: #008080; font-weight: bold\">0.1756615006968512</span>\n",
       "  <span style=\"font-weight: bold\">(</span><span style=\"color: #008080; text-decoration-color: #008080; font-weight: bold\">7999</span>, <span style=\"color: #008080; text-decoration-color: #008080; font-weight: bold\">665</span><span style=\"font-weight: bold\">)</span>   <span style=\"color: #008080; text-decoration-color: #008080; font-weight: bold\">0.05958799672374421</span>\n",
       "  <span style=\"font-weight: bold\">(</span><span style=\"color: #008080; text-decoration-color: #008080; font-weight: bold\">7999</span>, <span style=\"color: #008080; text-decoration-color: #008080; font-weight: bold\">4450</span><span style=\"font-weight: bold\">)</span>  <span style=\"color: #008080; text-decoration-color: #008080; font-weight: bold\">0.0537620020845075</span>\n",
       "  <span style=\"font-weight: bold\">(</span><span style=\"color: #008080; text-decoration-color: #008080; font-weight: bold\">7999</span>, <span style=\"color: #008080; text-decoration-color: #008080; font-weight: bold\">2367</span><span style=\"font-weight: bold\">)</span>  <span style=\"color: #008080; text-decoration-color: #008080; font-weight: bold\">0.11152059114161057</span>\n",
       "  <span style=\"font-weight: bold\">(</span><span style=\"color: #008080; text-decoration-color: #008080; font-weight: bold\">7999</span>, <span style=\"color: #008080; text-decoration-color: #008080; font-weight: bold\">3929</span><span style=\"font-weight: bold\">)</span>  <span style=\"color: #008080; text-decoration-color: #008080; font-weight: bold\">0.15313178028710508</span>\n",
       "  <span style=\"font-weight: bold\">(</span><span style=\"color: #008080; text-decoration-color: #008080; font-weight: bold\">7999</span>, <span style=\"color: #008080; text-decoration-color: #008080; font-weight: bold\">2302</span><span style=\"font-weight: bold\">)</span>  <span style=\"color: #008080; text-decoration-color: #008080; font-weight: bold\">0.3398825088871534</span>\n",
       "  <span style=\"font-weight: bold\">(</span><span style=\"color: #008080; text-decoration-color: #008080; font-weight: bold\">7999</span>, <span style=\"color: #008080; text-decoration-color: #008080; font-weight: bold\">2622</span><span style=\"font-weight: bold\">)</span>  <span style=\"color: #008080; text-decoration-color: #008080; font-weight: bold\">0.12045700724954733</span>\n",
       "  <span style=\"font-weight: bold\">(</span><span style=\"color: #008080; text-decoration-color: #008080; font-weight: bold\">7999</span>, <span style=\"color: #008080; text-decoration-color: #008080; font-weight: bold\">1281</span><span style=\"font-weight: bold\">)</span>  <span style=\"color: #008080; text-decoration-color: #008080; font-weight: bold\">0.09985131797213392</span>\n",
       "  <span style=\"font-weight: bold\">(</span><span style=\"color: #008080; text-decoration-color: #008080; font-weight: bold\">7999</span>, <span style=\"color: #008080; text-decoration-color: #008080; font-weight: bold\">4180</span><span style=\"font-weight: bold\">)</span>  <span style=\"color: #008080; text-decoration-color: #008080; font-weight: bold\">0.07131608660112902</span>\n",
       "  <span style=\"font-weight: bold\">(</span><span style=\"color: #008080; text-decoration-color: #008080; font-weight: bold\">7999</span>, <span style=\"color: #008080; text-decoration-color: #008080; font-weight: bold\">2348</span><span style=\"font-weight: bold\">)</span>  <span style=\"color: #008080; text-decoration-color: #008080; font-weight: bold\">0.07304000983610084</span>\n",
       "  <span style=\"font-weight: bold\">(</span><span style=\"color: #008080; text-decoration-color: #008080; font-weight: bold\">7999</span>, <span style=\"color: #008080; text-decoration-color: #008080; font-weight: bold\">4494</span><span style=\"font-weight: bold\">)</span>  <span style=\"color: #008080; text-decoration-color: #008080; font-weight: bold\">0.04449468516297852</span>\n",
       "  <span style=\"font-weight: bold\">(</span><span style=\"color: #008080; text-decoration-color: #008080; font-weight: bold\">7999</span>, <span style=\"color: #008080; text-decoration-color: #008080; font-weight: bold\">3038</span><span style=\"font-weight: bold\">)</span>  <span style=\"color: #008080; text-decoration-color: #008080; font-weight: bold\">0.07822154563756212</span>\n",
       "  <span style=\"font-weight: bold\">(</span><span style=\"color: #008080; text-decoration-color: #008080; font-weight: bold\">7999</span>, <span style=\"color: #008080; text-decoration-color: #008080; font-weight: bold\">1899</span><span style=\"font-weight: bold\">)</span>  <span style=\"color: #008080; text-decoration-color: #008080; font-weight: bold\">0.05183131234923323</span>\n",
       "  <span style=\"font-weight: bold\">(</span><span style=\"color: #008080; text-decoration-color: #008080; font-weight: bold\">7999</span>, <span style=\"color: #008080; text-decoration-color: #008080; font-weight: bold\">2518</span><span style=\"font-weight: bold\">)</span>  <span style=\"color: #008080; text-decoration-color: #008080; font-weight: bold\">0.06082567560631498</span>\n",
       "  <span style=\"font-weight: bold\">(</span><span style=\"color: #008080; text-decoration-color: #008080; font-weight: bold\">7999</span>, <span style=\"color: #008080; text-decoration-color: #008080; font-weight: bold\">1786</span><span style=\"font-weight: bold\">)</span>  <span style=\"color: #008080; text-decoration-color: #008080; font-weight: bold\">0.06352682433817139</span>\n",
       "  <span style=\"font-weight: bold\">(</span><span style=\"color: #008080; text-decoration-color: #008080; font-weight: bold\">7999</span>, <span style=\"color: #008080; text-decoration-color: #008080; font-weight: bold\">1628</span><span style=\"font-weight: bold\">)</span>  <span style=\"color: #008080; text-decoration-color: #008080; font-weight: bold\">0.052624650739938376</span>\n",
       "  <span style=\"font-weight: bold\">(</span><span style=\"color: #008080; text-decoration-color: #008080; font-weight: bold\">7999</span>, <span style=\"color: #008080; text-decoration-color: #008080; font-weight: bold\">1831</span><span style=\"font-weight: bold\">)</span>  <span style=\"color: #008080; text-decoration-color: #008080; font-weight: bold\">0.12328096528238087</span>\n",
       "  <span style=\"font-weight: bold\">(</span><span style=\"color: #008080; text-decoration-color: #008080; font-weight: bold\">7999</span>, <span style=\"color: #008080; text-decoration-color: #008080; font-weight: bold\">1164</span><span style=\"font-weight: bold\">)</span>  <span style=\"color: #008080; text-decoration-color: #008080; font-weight: bold\">0.06614128219094213</span>\n",
       "  <span style=\"font-weight: bold\">(</span><span style=\"color: #008080; text-decoration-color: #008080; font-weight: bold\">7999</span>, <span style=\"color: #008080; text-decoration-color: #008080; font-weight: bold\">3659</span><span style=\"font-weight: bold\">)</span>  <span style=\"color: #008080; text-decoration-color: #008080; font-weight: bold\">0.0682858059803821</span>\n",
       "  <span style=\"font-weight: bold\">(</span><span style=\"color: #008080; text-decoration-color: #008080; font-weight: bold\">7999</span>, <span style=\"color: #008080; text-decoration-color: #008080; font-weight: bold\">1753</span><span style=\"font-weight: bold\">)</span>  <span style=\"color: #008080; text-decoration-color: #008080; font-weight: bold\">0.09453444233822542</span>\n",
       "  <span style=\"font-weight: bold\">(</span><span style=\"color: #008080; text-decoration-color: #008080; font-weight: bold\">7999</span>, <span style=\"color: #008080; text-decoration-color: #008080; font-weight: bold\">1617</span><span style=\"font-weight: bold\">)</span>  <span style=\"color: #008080; text-decoration-color: #008080; font-weight: bold\">0.09135006974680232</span>\n",
       "  <span style=\"font-weight: bold\">(</span><span style=\"color: #008080; text-decoration-color: #008080; font-weight: bold\">7999</span>, <span style=\"color: #008080; text-decoration-color: #008080; font-weight: bold\">2990</span><span style=\"font-weight: bold\">)</span>  <span style=\"color: #008080; text-decoration-color: #008080; font-weight: bold\">0.041404946485086434</span>\n",
       "</pre>\n"
      ],
      "text/plain": [
       "  \u001b[1m(\u001b[0m\u001b[1;36m0\u001b[0m, \u001b[1;36m2362\u001b[0m\u001b[1m)\u001b[0m     \u001b[1;36m0.28510978103416845\u001b[0m\n",
       "  \u001b[1m(\u001b[0m\u001b[1;36m0\u001b[0m, \u001b[1;36m2710\u001b[0m\u001b[1m)\u001b[0m     \u001b[1;36m0.39014830600773676\u001b[0m\n",
       "  \u001b[1m(\u001b[0m\u001b[1;36m0\u001b[0m, \u001b[1;36m2665\u001b[0m\u001b[1m)\u001b[0m     \u001b[1;36m0.22375693851448133\u001b[0m\n",
       "  \u001b[1m(\u001b[0m\u001b[1;36m0\u001b[0m, \u001b[1;36m406\u001b[0m\u001b[1m)\u001b[0m      \u001b[1;36m0.15161913601846758\u001b[0m\n",
       "  \u001b[1m(\u001b[0m\u001b[1;36m0\u001b[0m, \u001b[1;36m2547\u001b[0m\u001b[1m)\u001b[0m     \u001b[1;36m0.16500577764486943\u001b[0m\n",
       "  \u001b[1m(\u001b[0m\u001b[1;36m0\u001b[0m, \u001b[1;36m3782\u001b[0m\u001b[1m)\u001b[0m     \u001b[1;36m0.16854459016161133\u001b[0m\n",
       "  \u001b[1m(\u001b[0m\u001b[1;36m0\u001b[0m, \u001b[1;36m2080\u001b[0m\u001b[1m)\u001b[0m     \u001b[1;36m0.28197278612779514\u001b[0m\n",
       "  \u001b[1m(\u001b[0m\u001b[1;36m0\u001b[0m, \u001b[1;36m867\u001b[0m\u001b[1m)\u001b[0m      \u001b[1;36m0.2308324290210661\u001b[0m\n",
       "  \u001b[1m(\u001b[0m\u001b[1;36m0\u001b[0m, \u001b[1;36m3210\u001b[0m\u001b[1m)\u001b[0m     \u001b[1;36m0.1176932074786112\u001b[0m\n",
       "  \u001b[1m(\u001b[0m\u001b[1;36m0\u001b[0m, \u001b[1;36m1881\u001b[0m\u001b[1m)\u001b[0m     \u001b[1;36m0.17253345715089757\u001b[0m\n",
       "  \u001b[1m(\u001b[0m\u001b[1;36m0\u001b[0m, \u001b[1;36m2310\u001b[0m\u001b[1m)\u001b[0m     \u001b[1;36m0.1856962955951335\u001b[0m\n",
       "  \u001b[1m(\u001b[0m\u001b[1;36m0\u001b[0m, \u001b[1;36m2990\u001b[0m\u001b[1m)\u001b[0m     \u001b[1;36m0.22675731049451012\u001b[0m\n",
       "  \u001b[1m(\u001b[0m\u001b[1;36m0\u001b[0m, \u001b[1;36m4957\u001b[0m\u001b[1m)\u001b[0m     \u001b[1;36m0.42673668334525566\u001b[0m\n",
       "  \u001b[1m(\u001b[0m\u001b[1;36m0\u001b[0m, \u001b[1;36m1229\u001b[0m\u001b[1m)\u001b[0m     \u001b[1;36m0.29125923259380826\u001b[0m\n",
       "  \u001b[1m(\u001b[0m\u001b[1;36m0\u001b[0m, \u001b[1;36m4825\u001b[0m\u001b[1m)\u001b[0m     \u001b[1;36m0.32948007487109954\u001b[0m\n",
       "  \u001b[1m(\u001b[0m\u001b[1;36m1\u001b[0m, \u001b[1;36m1753\u001b[0m\u001b[1m)\u001b[0m     \u001b[1;36m0.10889666072443233\u001b[0m\n",
       "  \u001b[1m(\u001b[0m\u001b[1;36m1\u001b[0m, \u001b[1;36m3215\u001b[0m\u001b[1m)\u001b[0m     \u001b[1;36m0.12648245018966606\u001b[0m\n",
       "  \u001b[1m(\u001b[0m\u001b[1;36m1\u001b[0m, \u001b[1;36m786\u001b[0m\u001b[1m)\u001b[0m      \u001b[1;36m0.15108221643471081\u001b[0m\n",
       "  \u001b[1m(\u001b[0m\u001b[1;36m1\u001b[0m, \u001b[1;36m460\u001b[0m\u001b[1m)\u001b[0m      \u001b[1;36m0.3218600711019063\u001b[0m\n",
       "  \u001b[1m(\u001b[0m\u001b[1;36m1\u001b[0m, \u001b[1;36m2755\u001b[0m\u001b[1m)\u001b[0m     \u001b[1;36m0.23794365370676562\u001b[0m\n",
       "  \u001b[1m(\u001b[0m\u001b[1;36m1\u001b[0m, \u001b[1;36m3970\u001b[0m\u001b[1m)\u001b[0m     \u001b[1;36m0.19320255713795778\u001b[0m\n",
       "  \u001b[1m(\u001b[0m\u001b[1;36m1\u001b[0m, \u001b[1;36m2960\u001b[0m\u001b[1m)\u001b[0m     \u001b[1;36m0.3046381309500056\u001b[0m\n",
       "  \u001b[1m(\u001b[0m\u001b[1;36m1\u001b[0m, \u001b[1;36m1617\u001b[0m\u001b[1m)\u001b[0m     \u001b[1;36m0.210456999720373\u001b[0m\n",
       "  \u001b[1m(\u001b[0m\u001b[1;36m1\u001b[0m, \u001b[1;36m813\u001b[0m\u001b[1m)\u001b[0m      \u001b[1;36m0.30820472530881105\u001b[0m\n",
       "  \u001b[1m(\u001b[0m\u001b[1;36m1\u001b[0m, \u001b[1;36m590\u001b[0m\u001b[1m)\u001b[0m      \u001b[1;36m0.14567537333806485\u001b[0m\n",
       "  :     :\n",
       "  \u001b[1m(\u001b[0m\u001b[1;36m7999\u001b[0m, \u001b[1;36m4854\u001b[0m\u001b[1m)\u001b[0m  \u001b[1;36m0.05458097648689486\u001b[0m\n",
       "  \u001b[1m(\u001b[0m\u001b[1;36m7999\u001b[0m, \u001b[1;36m1859\u001b[0m\u001b[1m)\u001b[0m  \u001b[1;36m0.05672429945850727\u001b[0m\n",
       "  \u001b[1m(\u001b[0m\u001b[1;36m7999\u001b[0m, \u001b[1;36m2561\u001b[0m\u001b[1m)\u001b[0m  \u001b[1;36m0.058262246824933576\u001b[0m\n",
       "  \u001b[1m(\u001b[0m\u001b[1;36m7999\u001b[0m, \u001b[1;36m2087\u001b[0m\u001b[1m)\u001b[0m  \u001b[1;36m0.1756615006968512\u001b[0m\n",
       "  \u001b[1m(\u001b[0m\u001b[1;36m7999\u001b[0m, \u001b[1;36m665\u001b[0m\u001b[1m)\u001b[0m   \u001b[1;36m0.05958799672374421\u001b[0m\n",
       "  \u001b[1m(\u001b[0m\u001b[1;36m7999\u001b[0m, \u001b[1;36m4450\u001b[0m\u001b[1m)\u001b[0m  \u001b[1;36m0.0537620020845075\u001b[0m\n",
       "  \u001b[1m(\u001b[0m\u001b[1;36m7999\u001b[0m, \u001b[1;36m2367\u001b[0m\u001b[1m)\u001b[0m  \u001b[1;36m0.11152059114161057\u001b[0m\n",
       "  \u001b[1m(\u001b[0m\u001b[1;36m7999\u001b[0m, \u001b[1;36m3929\u001b[0m\u001b[1m)\u001b[0m  \u001b[1;36m0.15313178028710508\u001b[0m\n",
       "  \u001b[1m(\u001b[0m\u001b[1;36m7999\u001b[0m, \u001b[1;36m2302\u001b[0m\u001b[1m)\u001b[0m  \u001b[1;36m0.3398825088871534\u001b[0m\n",
       "  \u001b[1m(\u001b[0m\u001b[1;36m7999\u001b[0m, \u001b[1;36m2622\u001b[0m\u001b[1m)\u001b[0m  \u001b[1;36m0.12045700724954733\u001b[0m\n",
       "  \u001b[1m(\u001b[0m\u001b[1;36m7999\u001b[0m, \u001b[1;36m1281\u001b[0m\u001b[1m)\u001b[0m  \u001b[1;36m0.09985131797213392\u001b[0m\n",
       "  \u001b[1m(\u001b[0m\u001b[1;36m7999\u001b[0m, \u001b[1;36m4180\u001b[0m\u001b[1m)\u001b[0m  \u001b[1;36m0.07131608660112902\u001b[0m\n",
       "  \u001b[1m(\u001b[0m\u001b[1;36m7999\u001b[0m, \u001b[1;36m2348\u001b[0m\u001b[1m)\u001b[0m  \u001b[1;36m0.07304000983610084\u001b[0m\n",
       "  \u001b[1m(\u001b[0m\u001b[1;36m7999\u001b[0m, \u001b[1;36m4494\u001b[0m\u001b[1m)\u001b[0m  \u001b[1;36m0.04449468516297852\u001b[0m\n",
       "  \u001b[1m(\u001b[0m\u001b[1;36m7999\u001b[0m, \u001b[1;36m3038\u001b[0m\u001b[1m)\u001b[0m  \u001b[1;36m0.07822154563756212\u001b[0m\n",
       "  \u001b[1m(\u001b[0m\u001b[1;36m7999\u001b[0m, \u001b[1;36m1899\u001b[0m\u001b[1m)\u001b[0m  \u001b[1;36m0.05183131234923323\u001b[0m\n",
       "  \u001b[1m(\u001b[0m\u001b[1;36m7999\u001b[0m, \u001b[1;36m2518\u001b[0m\u001b[1m)\u001b[0m  \u001b[1;36m0.06082567560631498\u001b[0m\n",
       "  \u001b[1m(\u001b[0m\u001b[1;36m7999\u001b[0m, \u001b[1;36m1786\u001b[0m\u001b[1m)\u001b[0m  \u001b[1;36m0.06352682433817139\u001b[0m\n",
       "  \u001b[1m(\u001b[0m\u001b[1;36m7999\u001b[0m, \u001b[1;36m1628\u001b[0m\u001b[1m)\u001b[0m  \u001b[1;36m0.052624650739938376\u001b[0m\n",
       "  \u001b[1m(\u001b[0m\u001b[1;36m7999\u001b[0m, \u001b[1;36m1831\u001b[0m\u001b[1m)\u001b[0m  \u001b[1;36m0.12328096528238087\u001b[0m\n",
       "  \u001b[1m(\u001b[0m\u001b[1;36m7999\u001b[0m, \u001b[1;36m1164\u001b[0m\u001b[1m)\u001b[0m  \u001b[1;36m0.06614128219094213\u001b[0m\n",
       "  \u001b[1m(\u001b[0m\u001b[1;36m7999\u001b[0m, \u001b[1;36m3659\u001b[0m\u001b[1m)\u001b[0m  \u001b[1;36m0.0682858059803821\u001b[0m\n",
       "  \u001b[1m(\u001b[0m\u001b[1;36m7999\u001b[0m, \u001b[1;36m1753\u001b[0m\u001b[1m)\u001b[0m  \u001b[1;36m0.09453444233822542\u001b[0m\n",
       "  \u001b[1m(\u001b[0m\u001b[1;36m7999\u001b[0m, \u001b[1;36m1617\u001b[0m\u001b[1m)\u001b[0m  \u001b[1;36m0.09135006974680232\u001b[0m\n",
       "  \u001b[1m(\u001b[0m\u001b[1;36m7999\u001b[0m, \u001b[1;36m2990\u001b[0m\u001b[1m)\u001b[0m  \u001b[1;36m0.041404946485086434\u001b[0m\n"
      ]
     },
     "metadata": {},
     "output_type": "display_data"
    }
   ],
   "source": [
    "print(X_tfidf)"
   ]
  },
  {
   "cell_type": "markdown",
   "metadata": {},
   "source": [
    "### Modelos"
   ]
  },
  {
   "cell_type": "code",
   "execution_count": 374,
   "metadata": {},
   "outputs": [],
   "source": [
    "dfReviewTest = pd.read_csv('video_games_reviews_test.csv')\n",
    "dfReviewValid = pd.read_csv('video_games_reviews_dev.csv')"
   ]
  },
  {
   "cell_type": "code",
   "execution_count": 375,
   "metadata": {},
   "outputs": [],
   "source": [
    "X_train = X_tfidf\n",
    "y_train = dfReview['overallBinary']\n",
    "\n",
    "X_test = tfidf_vect.transform(dfReviewTest['reviewText'].replace(np.nan, ''))\n",
    "y_test = dfReviewTest['overall'].apply(lambda x:1 if x > 3 else 0)"
   ]
  },
  {
   "cell_type": "markdown",
   "metadata": {},
   "source": [
    "#### Random Forest"
   ]
  },
  {
   "cell_type": "code",
   "execution_count": 376,
   "metadata": {},
   "outputs": [
    {
     "data": {
      "text/plain": [
       "RandomForestClassifier()"
      ]
     },
     "execution_count": 376,
     "metadata": {},
     "output_type": "execute_result"
    }
   ],
   "source": [
    "rf = RandomForestClassifier()\n",
    "rf.fit(X_train, y_train)"
   ]
  },
  {
   "cell_type": "code",
   "execution_count": 377,
   "metadata": {},
   "outputs": [],
   "source": [
    "y_dt_pred = rf.predict(X_test)\n",
    "#mostra_metricas(y_test, y_dt_pred)"
   ]
  },
  {
   "cell_type": "code",
   "execution_count": 378,
   "metadata": {},
   "outputs": [
    {
     "data": {
      "text/html": [
       "<pre style=\"white-space:pre;overflow-x:auto;line-height:normal;font-family:Menlo,'DejaVu Sans Mono',consolas,'Courier New',monospace\">Acurácia:  <span style=\"color: #008080; text-decoration-color: #008080; font-weight: bold\">0.7624</span>\n",
       "</pre>\n"
      ],
      "text/plain": [
       "Acurácia:  \u001b[1;36m0.7624\u001b[0m\n"
      ]
     },
     "metadata": {},
     "output_type": "display_data"
    },
    {
     "data": {
      "text/html": [
       "<pre style=\"white-space:pre;overflow-x:auto;line-height:normal;font-family:Menlo,'DejaVu Sans Mono',consolas,'Courier New',monospace\">\n",
       "AUROC: <span style=\"color: #008080; text-decoration-color: #008080; font-weight: bold\">0.7313127905233169</span>\n",
       "</pre>\n"
      ],
      "text/plain": [
       "\n",
       "AUROC: \u001b[1;36m0.7313127905233169\u001b[0m\n"
      ]
     },
     "metadata": {},
     "output_type": "display_data"
    },
    {
     "data": {
      "text/html": [
       "<pre style=\"white-space:pre;overflow-x:auto;line-height:normal;font-family:Menlo,'DejaVu Sans Mono',consolas,'Courier New',monospace\">\n",
       "F1-Score: <span style=\"color: #008080; text-decoration-color: #008080; font-weight: bold\">0.7551475652487978</span>\n",
       "</pre>\n"
      ],
      "text/plain": [
       "\n",
       "F1-Score: \u001b[1;36m0.7551475652487978\u001b[0m\n"
      ]
     },
     "metadata": {},
     "output_type": "display_data"
    },
    {
     "data": {
      "text/html": [
       "<pre style=\"white-space:pre;overflow-x:auto;line-height:normal;font-family:Menlo,'DejaVu Sans Mono',consolas,'Courier New',monospace\">\n",
       "Matriz de confusão:\n",
       "</pre>\n"
      ],
      "text/plain": [
       "\n",
       "Matriz de confusão:\n"
      ]
     },
     "metadata": {},
     "output_type": "display_data"
    },
    {
     "data": {
      "image/png": "[encoded data removed]",
      "text/plain": [
       "<Figure size 576x396 with 2 Axes>"
      ]
     },
     "metadata": {},
     "output_type": "display_data"
    }
   ],
   "source": [
    "mostra_metricas(y_test, y_dt_pred)"
   ]
  },
  {
   "cell_type": "code",
   "execution_count": 383,
   "metadata": {},
   "outputs": [],
   "source": [
    "def testes(texto):\n",
    "    yvect = tfidf_vect.transform([texto])\n",
    "    ypred = rf.predict(yvect)\n",
    "    if ypred == 0:\n",
    "        print(\"Essa é uma review negativa.\")\n",
    "    else:\n",
    "        print(\"Essa é uma review positiva.\")"
   ]
  },
  {
   "cell_type": "code",
   "execution_count": 386,
   "metadata": {},
   "outputs": [
    {
     "data": {
      "text/html": [
       "<pre style=\"white-space:pre;overflow-x:auto;line-height:normal;font-family:Menlo,'DejaVu Sans Mono',consolas,'Courier New',monospace\">Essa é uma review positiva.\n",
       "</pre>\n"
      ],
      "text/plain": [
       "Essa é uma review positiva.\n"
      ]
     },
     "metadata": {},
     "output_type": "display_data"
    }
   ],
   "source": [
    "testes('good')"
   ]
  },
  {
   "cell_type": "code",
   "execution_count": null,
   "metadata": {},
   "outputs": [],
   "source": []
  }
 ],
 "metadata": {
  "kernelspec": {
   "display_name": "Python 3",
   "language": "python",
   "name": "python3"
  },
  "language_info": {
   "codemirror_mode": {
    "name": "ipython",
    "version": 3
   },
   "file_extension": ".py",
   "mimetype": "text/x-python",
   "name": "python",
   "nbconvert_exporter": "python",
   "pygments_lexer": "ipython3",
   "version": "3.8.5"
  },
  "toc-autonumbering": true,
  "widgets": {
   "application/vnd.jupyter.widget-state+json": {
    "state": {},
    "version_major": 2,
    "version_minor": 0
   }
  }
 },
 "nbformat": 4,
 "nbformat_minor": 4
}
